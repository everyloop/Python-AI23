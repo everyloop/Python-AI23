{
 "cells": [
  {
   "cell_type": "markdown",
   "metadata": {},
   "source": [
    "<a href=\"https://colab.research.google.com/github/kokchun/Python-course-AI22/blob/main/Exercises/03-for-statement-exercise.ipynb\" target=\"_parent\"><img align=\"left\" src=\"https://colab.research.google.com/assets/colab-badge.svg\" alt=\"Open In Colab\"/></a> &nbsp; to see hints and answers."
   ]
  },
  {
   "cell_type": "markdown",
   "metadata": {},
   "source": [
    "# for statement exercises\n",
    "\n",
    "---\n",
    "These are introductory exercises in Python with focus in **for** statement.\n",
    "\n",
    "<p class = \"alert alert-info\" role=\"alert\"><b>Remember</b> to use <b>descriptive variable names</b> in order to get readable code </p>\n",
    "\n",
    "<p class = \"alert alert-info\" role=\"alert\"><b>Remember</b> to format your answers in a neat way using <b>f-strings</b>\n",
    "\n",
    "<p class = \"alert alert-info\" role=\"alert\"><b>Remember</b> to format your input questions in a pedagogical way to guide the user\n",
    "\n",
    "The number of stars (\\*), (\\*\\*), (\\*\\*\\*) denotes the difficulty level of the task\n",
    "\n",
    "---"
   ]
  },
  {
   "cell_type": "markdown",
   "metadata": {},
   "source": [
    "## 1. Count numbers (*)\n",
    "\n",
    "Use a **for** statement to count from: \n",
    "\n",
    "&nbsp; a) &nbsp; -10 to 10 with one increment (*)\n",
    "\n",
    "&nbsp; b) &nbsp; -10 to 10 with two increment (*)\n",
    "\n",
    "<details>\n",
    "\n",
    "<summary>Answer </summary>\n",
    "\n",
    "```\n",
    "a) -10 -9 -8 -7 -6 -5 -4 -3 -2 -1 0 1 2 3 4 5 6 7 8 9 10\n",
    "\n",
    "b) -10  -8  -6  -4  -2  0  2  4  6  8  10\n",
    "```\n",
    "\n",
    "</details>\n",
    "\n"
   ]
  },
  {
   "cell_type": "markdown",
   "metadata": {},
   "source": [
    "---\n",
    "## 2. Arithmetic sum (*)\n",
    "Use a **for** statement to compute the following sums: \n",
    "\n",
    "&nbsp; a) &nbsp; $\\text{sum} = 1 + 2 + \\ldots + 99+ 100$ (*)\n",
    "\n",
    "&nbsp; b) &nbsp; $\\text{sum} = 1 + 3 + 5 + \\ldots + 97 + 99$ (*)\n",
    "\n",
    "<details>\n",
    "\n",
    "<summary>Answer </summary>\n",
    "\n",
    "```\n",
    "a) 1 + 2 + ... + 99 + 100 = 5050 \n",
    "\n",
    "b) 1 + 3 + 5 +...+ 97 + 99 = 2500\n",
    "```\n",
    "\n",
    "</details>\n"
   ]
  },
  {
   "cell_type": "markdown",
   "metadata": {},
   "source": [
    "---\n",
    "## 3. Multiplication table (*)\n",
    "Use **for** statement(s) to:\n",
    "\n",
    "&nbsp; a) &nbsp; print out the 6th multiplication table from 0 to 10 (*)\n",
    "\n",
    "&nbsp; b) &nbsp; let the user input the **table**, **start** and **end** of the table. (*)\n",
    "\n",
    "&nbsp; c) &nbsp; print out a full multiplication table from 0 to 10. (**)\n",
    "\n",
    "\n",
    "<details>\n",
    "\n",
    "<summary>Hint</summary>\n",
    "\n",
    "c) Use nested for-loops, which means a for-loop in a for-loop. To format the table nicely, use **f-string**: \n",
    "\n",
    "```python\n",
    "print(f\"{number :4}\", end = \"\")\n",
    "```\n",
    "\n",
    "\n",
    "</details>\n",
    "\n",
    "\n",
    "<details>\n",
    "\n",
    "<summary>Answer </summary>\n",
    "\n",
    "a)\n",
    "```\n",
    "0 6 12 18 24 30 36 42 48 54 60\n",
    "```\n",
    "\n",
    "b) e.g. \n",
    "\n",
    "```\n",
    "Which table are you interested in? 5\n",
    "Specify start of table: 5\n",
    "Specify end of table: 12\n",
    "\n",
    "Your 5th multiplication table from 5 to 12: 25 30 35 40 45 50 55 60\n",
    "```\n",
    "\n",
    "c)\n",
    "\n",
    "```\n",
    "   0   0   0   0   0   0   0   0   0   0   0\n",
    "   0   1   2   3   4   5   6   7   8   9  10\n",
    "   0   2   4   6   8  10  12  14  16  18  20\n",
    "   0   3   6   9  12  15  18  21  24  27  30\n",
    "   0   4   8  12  16  20  24  28  32  36  40\n",
    "   0   5  10  15  20  25  30  35  40  45  50\n",
    "   0   6  12  18  24  30  36  42  48  54  60\n",
    "   0   7  14  21  28  35  42  49  56  63  70\n",
    "   0   8  16  24  32  40  48  56  64  72  80\n",
    "   0   9  18  27  36  45  54  63  72  81  90\n",
    "   0  10  20  30  40  50  60  70  80  90 100\n",
    "```\n",
    "\n",
    "</details>"
   ]
  },
  {
   "cell_type": "markdown",
   "metadata": {},
   "source": [
    "---\n",
    "## 4. Faculty (*)\n",
    "\n",
    "Use a **for** statement to compute $n!$. \n",
    "\n",
    "$n! = 1\\cdot2\\cdot3\\cdot\\ldots\\cdot(n-1)\\cdot n $\n",
    "\n",
    "Let the user input $n$. "
   ]
  },
  {
   "cell_type": "markdown",
   "metadata": {},
   "source": [
    "--- \n",
    "## 5. Guess the number (*)\n",
    "\n",
    "The computer thinks of a four-digit number. Start by creating a random four-digit number. Use **for** statement to figure out a correct guess\n",
    "\n",
    "<br>\n",
    "<details>\n",
    "\n",
    "<summary>Answer </summary>\n",
    "\n",
    "e.g.\n",
    "```\n",
    "The final guess is 8993\n",
    "The computer number is 8993\n",
    "```\n",
    "\n",
    "</details>"
   ]
  },
  {
   "cell_type": "markdown",
   "metadata": {},
   "source": [
    "---\n",
    "## 6. Rice on chessboard (*)\n",
    "\n",
    "In first square of the chessboard there is one grain of rice, in the second square there is two grains, in the third square there is four grains and so on. How many grains are there in the whole chessboard when all squares are filled using this pattern?\n",
    "\n",
    "<img align=\"left\" src=\"../Assets/chessboard.png\" width=\"300\"/>"
   ]
  },
  {
   "cell_type": "markdown",
   "metadata": {},
   "source": [
    "<details>\n",
    "\n",
    "<summary>Answer</summary>\n",
    "\n",
    "```\n",
    "18446744073709551615 number of grains\n",
    "```\n",
    "\n",
    "</details>"
   ]
  },
  {
   "cell_type": "markdown",
   "metadata": {},
   "source": [
    "---\n",
    "\n",
    "Kokchun Giang\n",
    "\n",
    "[LinkedIn][linkedIn_kokchun]\n",
    "\n",
    "[GitHub portfolio][github_portfolio]\n",
    "\n",
    "[linkedIn_kokchun]: https://www.linkedin.com/in/kokchungiang/\n",
    "[github_portfolio]: https://github.com/kokchun/Portfolio-Kokchun-Giang\n",
    "\n",
    "---"
   ]
  }
 ],
 "metadata": {
  "kernelspec": {
   "display_name": "Python 3.9.6 64-bit",
   "language": "python",
   "name": "python3"
  },
  "language_info": {
   "name": "python",
   "version": "3.9.6"
  },
  "orig_nbformat": 4,
  "vscode": {
   "interpreter": {
    "hash": "0da836a34428266995a795f1e1e27b816fa1c02f148d9728b3fbbbc5459afca6"
   }
  }
 },
 "nbformat": 4,
 "nbformat_minor": 2
}
