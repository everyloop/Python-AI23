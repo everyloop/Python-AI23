{
 "cells": [
  {
   "cell_type": "markdown",
   "metadata": {},
   "source": [
    "# List\n",
    "- Lists are one of 4 built-in data types in Python used to store collections of data, the other 3 are Tuple, Set, and Dictionary, all with different qualities and usage.\n",
    "- Lists are used to store multiple items in a single variable.\n",
    "- Lists are created using square brackets: []\n",
    "- List items are ordered, changeable (mutable), and allow duplicate values.\n",
    "- List items can be of any data type, and can contain different data types."
   ]
  },
  {
   "cell_type": "code",
   "execution_count": 12,
   "metadata": {},
   "outputs": [
    {
     "name": "stdout",
     "output_type": "stream",
     "text": [
      "fruits = ['apple', 'banana', 'cherry', 'orange', 'apple']\n",
      "len(fruits) = 5\n",
      "fruits.count('apple') = 2\n",
      "fruits = ['apple', 'banana', 'cherry', 'orange', 'apple', 'melon', 'kiwi']\n",
      "fruits = ['apple', 'banana', 'cherry', 'orange', 'apple', 'melon', 'kiwi', 'pear', 'coconut', 'pineapple', 5, [5, 4, 2], True, 4.5]\n"
     ]
    }
   ],
   "source": [
    "empty = []\n",
    "fruits = [\"apple\", \"banana\", \"cherry\", \"orange\", \"apple\"]\n",
    "random_stuff = [\"pear\", \"coconut\", \"pineapple\", 5, [5, 4, 2] , True, 4.5]\n",
    "\n",
    "\n",
    "print(f\"{fruits = }\")\n",
    "print(f\"{len(fruits) = }\")   # Use len() to get number of items in list\n",
    "print(f\"{fruits.count('apple') = }\") # .count() count number of occurances of a value\n",
    "\n",
    "fruits.append('melon') # Append an item to a list.\n",
    "fruits.append('kiwi')\n",
    "print(f\"{fruits = }\")\n",
    "\n",
    "fruits += random_stuff # alt. fruits.extend(more_fruits). Appends all items from a second list\n",
    "print(f\"{fruits = }\")\n"
   ]
  },
  {
   "cell_type": "markdown",
   "metadata": {},
   "source": [
    "# Indexing & Slicing\n",
    "- List items are indexed, the first item has index [0], the second item hsa index[1] etc.\n",
    "- Make sure the index exists, or the program will crash with a \"index out of range\"-message\n",
    "- Negative indexing: -1 refers to the last item, -2 refers to the second last item etc.\n",
    "- Slicing: Specifying a range of indexes returns a new list with the specified items. [start:stop:step(optional)]"
   ]
  },
  {
   "cell_type": "code",
   "execution_count": 45,
   "metadata": {},
   "outputs": [
    {
     "name": "stdout",
     "output_type": "stream",
     "text": [
      "fruits[0] = 'apple'\n",
      "fruits[-3][1] = 4\n",
      "fruits[2:5] = ['cherry', 'orange', 'apple']\n",
      "fruits[:5] = ['apple', 'banana', 'cherry', 'orange', 'apple']\n",
      "fruits[5:] = ['melon', 'kiwi', 'pear', 'coconut', 'pineapple', 5, [5, 4, 2], True, 4.5]\n",
      "fruits[:2] + fruits[-2:] = ['apple', 'banana', True, 4.5]\n",
      "fruits[-3:] = [[5, 4, 2], True, 4.5]\n",
      "fruits[::-2] = [4.5, [5, 4, 2], 'pineapple', 'pear', 'melon', 'orange', 'banana']\n"
     ]
    }
   ],
   "source": [
    "print(f\"{fruits[0] = }\")\n",
    "print(f\"{fruits[-3][1] = }\")\n",
    "print(f\"{fruits[2:5] = }\")\n",
    "print(f\"{fruits[:5] = }\")\n",
    "print(f\"{fruits[5:] = }\")\n",
    "print(f\"{fruits[:2] + fruits[-2:] = }\")\n",
    "print(f\"{fruits[-3:] = }\")\n",
    "print(f\"{fruits[::-2] = }\")\n",
    "\n",
    "\n"
   ]
  },
  {
   "cell_type": "markdown",
   "metadata": {},
   "source": [
    "# Looping through a list"
   ]
  },
  {
   "cell_type": "code",
   "execution_count": 53,
   "metadata": {},
   "outputs": [
    {
     "name": "stdout",
     "output_type": "stream",
     "text": [
      "apple, banana, cherry, orange, apple, melon, kiwi, pear, coconut, pineapple, "
     ]
    }
   ],
   "source": [
    "for fruit in fruits[:-4]:\n",
    "    print(fruit, end=\", \")\n"
   ]
  },
  {
   "cell_type": "code",
   "execution_count": 56,
   "metadata": {},
   "outputs": [
    {
     "name": "stdout",
     "output_type": "stream",
     "text": [
      "0: apple\n",
      "1: banana\n",
      "2: cherry\n",
      "3: orange\n",
      "4: apple\n",
      "5: melon\n",
      "6: kiwi\n",
      "7: pear\n",
      "8: coconut\n",
      "9: pineapple\n"
     ]
    }
   ],
   "source": [
    "counter = 0\n",
    "for fruit in fruits[:-4]:\n",
    "    print(f\"{counter}: {fruit}\")\n",
    "    counter += 1"
   ]
  },
  {
   "cell_type": "code",
   "execution_count": 60,
   "metadata": {},
   "outputs": [
    {
     "name": "stdout",
     "output_type": "stream",
     "text": [
      "0: apple\n",
      "1: banana\n",
      "2: cherry\n",
      "3: orange\n",
      "4: apple\n",
      "5: melon\n",
      "6: kiwi\n",
      "7: pear\n",
      "8: coconut\n",
      "9: pineapple\n"
     ]
    }
   ],
   "source": [
    "for index, fruit in enumerate(fruits[:-4]):\n",
    "    print(f\"{index}: {fruit}\")"
   ]
  },
  {
   "cell_type": "markdown",
   "metadata": {},
   "source": [
    "# Mini-uppgift:\n",
    "Skriv ett program som ber användaren mata in färger, en i taget, tills användares input är tom, varje färg skall lägga på en lista, och när användaren inmatning är slut så skrivs listan ut, samt hur många färger det är på listan."
   ]
  },
  {
   "cell_type": "code",
   "execution_count": 1,
   "metadata": {},
   "outputs": [
    {
     "name": "stdout",
     "output_type": "stream",
     "text": [
      "The list contains 3\n",
      "Your list contains the colors: ['red', 'green', 'blue']\n"
     ]
    }
   ],
   "source": [
    "colors = []\n",
    "\n",
    "color = \"a\"\n",
    "\n",
    "while color != \"\":\n",
    "    color = input(\"Add color: \")\n",
    "\n",
    "    if color == \"\":\n",
    "        print(f\"The list contains {len(colors)}\\nYour list contains the colors: {colors}\")\n",
    "    else:\n",
    "        colors.append(color)\n",
    "\n",
    "\n"
   ]
  },
  {
   "cell_type": "code",
   "execution_count": 2,
   "metadata": {},
   "outputs": [
    {
     "name": "stdout",
     "output_type": "stream",
     "text": [
      "['yellow', 'purple', 'green', 'blue']\n",
      "4\n"
     ]
    }
   ],
   "source": [
    "colors = []\n",
    "\n",
    "while True:\n",
    "    color = input(\"Add color: \")\n",
    "    \n",
    "    if not color: \n",
    "        break\n",
    "\n",
    "    colors.append(color)\n",
    "\n",
    "print(colors)\n",
    "print(len(colors))"
   ]
  },
  {
   "cell_type": "code",
   "execution_count": 8,
   "metadata": {},
   "outputs": [
    {
     "ename": "SyntaxError",
     "evalue": "invalid syntax (3266637078.py, line 4)",
     "output_type": "error",
     "traceback": [
      "\u001b[1;36m  Cell \u001b[1;32mIn[8], line 4\u001b[1;36m\u001b[0m\n\u001b[1;33m    while (input_string := input(\"Add color\")) and input_string != \"\":\u001b[0m\n\u001b[1;37m    ^\u001b[0m\n\u001b[1;31mSyntaxError\u001b[0m\u001b[1;31m:\u001b[0m invalid syntax\n"
     ]
    }
   ],
   "source": [
    "# Create a list of colors\n",
    "colors = []\n",
    "# Loop until user input is blank\n",
    "while (input_string := input(\"Add color\")) and input_string != \"\":\n",
    "    colors.append(input_string) # Append color to list\n",
    "\n",
    "# Print results\n",
    "print(colors)\n",
    "print(len(colors))"
   ]
  },
  {
   "cell_type": "markdown",
   "metadata": {},
   "source": [
    "\n",
    "camelCase\n",
    "PascalCase\n",
    "snake_case  # Used in python\n",
    "list_of_students\n",
    "listOfStudents\n",
    "\n",
    "DRY = Don't Repeat Yourself\n"
   ]
  }
 ],
 "metadata": {
  "kernelspec": {
   "display_name": "Python-AI23-PtEMjJox",
   "language": "python",
   "name": "python3"
  },
  "language_info": {
   "codemirror_mode": {
    "name": "ipython",
    "version": 3
   },
   "file_extension": ".py",
   "mimetype": "text/x-python",
   "name": "python",
   "nbconvert_exporter": "python",
   "pygments_lexer": "ipython3",
   "version": "3.9.0"
  },
  "orig_nbformat": 4
 },
 "nbformat": 4,
 "nbformat_minor": 2
}
