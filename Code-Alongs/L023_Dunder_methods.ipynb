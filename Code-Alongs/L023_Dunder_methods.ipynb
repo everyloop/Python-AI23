{
 "cells": [
  {
   "cell_type": "markdown",
   "metadata": {},
   "source": [
    "# Dunder methods (double underscore __)\n",
    "\n",
    "- \\_\\_init__() Is called when a new object instance is created. The purpose is to initialize the object"
   ]
  },
  {
   "cell_type": "code",
   "execution_count": 31,
   "metadata": {},
   "outputs": [
    {
     "name": "stdout",
     "output_type": "stream",
     "text": [
      "my_cat = Mjau\n",
      "Cat(\"Mjau\")\n"
     ]
    }
   ],
   "source": [
    "class Cat:\n",
    "    def __init__(self, name):\n",
    "        self.name = name\n",
    "    \n",
    "    def __str__(self):\n",
    "        return self.name\n",
    "\n",
    "    def __repr__(self):\n",
    "         return f'Cat(\"{self.name}\")'\n",
    "\n",
    "my_cat = Cat(\"Mjau\")\n",
    "\n",
    "my_int = 5\n",
    "my_bool = True\n",
    "my_string = str(my_cat)\n",
    "\n",
    "print(f\"my_cat = {my_cat}\")\n",
    "print(repr(my_cat))"
   ]
  },
  {
   "cell_type": "code",
   "execution_count": 25,
   "metadata": {},
   "outputs": [
    {
     "name": "stdout",
     "output_type": "stream",
     "text": [
      "Cat(\"Mjau\")\n"
     ]
    },
    {
     "data": {
      "text/plain": [
       "'Mjau'"
      ]
     },
     "execution_count": 25,
     "metadata": {},
     "output_type": "execute_result"
    }
   ],
   "source": [
    "my_cat = Cat(\"Mjau\")\n",
    "print(repr(my_cat))\n",
    "copycat = eval(repr(my_cat))\n",
    "copycat.name"
   ]
  },
  {
   "cell_type": "code",
   "execution_count": 26,
   "metadata": {},
   "outputs": [
    {
     "name": "stdout",
     "output_type": "stream",
     "text": [
      "5\n"
     ]
    }
   ],
   "source": [
    "x = 5\n",
    "eval(\"print(x)\")"
   ]
  },
  {
   "cell_type": "code",
   "execution_count": 12,
   "metadata": {},
   "outputs": [
    {
     "name": "stdout",
     "output_type": "stream",
     "text": [
      "This is cat called Mjau True 1.5 Hello\n",
      "This is cat called Pelle True 1.5 Hello\n",
      "This is cat called Måns True 1.5 Hello\n"
     ]
    }
   ],
   "source": [
    "cats = [Cat(\"Mjau\"), Cat(\"Pelle\"), Cat(\"Måns\")]\n",
    "\n",
    "for cat in cats:\n",
    "    print(cat, True, 1.5, \"Hello\")\n"
   ]
  }
 ],
 "metadata": {
  "kernelspec": {
   "display_name": "Python-AI23-PtEMjJox",
   "language": "python",
   "name": "python3"
  },
  "language_info": {
   "codemirror_mode": {
    "name": "ipython",
    "version": 3
   },
   "file_extension": ".py",
   "mimetype": "text/x-python",
   "name": "python",
   "nbconvert_exporter": "python",
   "pygments_lexer": "ipython3",
   "version": "3.9.0"
  },
  "orig_nbformat": 4
 },
 "nbformat": 4,
 "nbformat_minor": 2
}
