{
 "cells": [
  {
   "cell_type": "markdown",
   "metadata": {},
   "source": [
    "# Inheritance"
   ]
  },
  {
   "cell_type": "code",
   "execution_count": 23,
   "metadata": {},
   "outputs": [
    {
     "name": "stdout",
     "output_type": "stream",
     "text": [
      "Pelle is running.\n",
      "Karo is running.\n",
      "Nemo is swimming.\n"
     ]
    }
   ],
   "source": [
    "class Animal:\n",
    "    def __init__(self, name):\n",
    "        self.name = name\n",
    "\n",
    "    def __repr__(self):\n",
    "        return f\"My name is {self.name} and I am a {type(self)}\"\n",
    "\n",
    "    def move(self):\n",
    "        print(f\"{self.name} is running.\")\n",
    "\n",
    "class Cat(Animal):\n",
    "    ...\n",
    "\n",
    "class Dog(Animal):\n",
    "    ...\n",
    "\n",
    "class Fish(Animal):\n",
    "    # Method override\n",
    "    def move(self):\n",
    "        print(f\"{self.name} is swimming.\")\n",
    "\n",
    "animals = [\n",
    "    Cat(\"Pelle\"),\n",
    "    Dog(\"Karo\"),\n",
    "    Fish(\"Nemo\")\n",
    "]\n",
    "\n",
    "for animal in animals:\n",
    "    animal.move()"
   ]
  }
 ],
 "metadata": {
  "kernelspec": {
   "display_name": "Python-AI23-PtEMjJox",
   "language": "python",
   "name": "python3"
  },
  "language_info": {
   "codemirror_mode": {
    "name": "ipython",
    "version": 3
   },
   "file_extension": ".py",
   "mimetype": "text/x-python",
   "name": "python",
   "nbconvert_exporter": "python",
   "pygments_lexer": "ipython3",
   "version": "3.11.5"
  },
  "orig_nbformat": 4
 },
 "nbformat": 4,
 "nbformat_minor": 2
}
