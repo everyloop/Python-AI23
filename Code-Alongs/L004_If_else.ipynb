{
 "cells": [
  {
   "cell_type": "markdown",
   "metadata": {},
   "source": [
    "# If statements\n",
    "- **if** - Essential part of if-statement\n",
    "- **elif** - Zero, One, or More elif\n",
    "- **else** - Zero, One"
   ]
  },
  {
   "cell_type": "code",
   "execution_count": 30,
   "metadata": {},
   "outputs": [
    {
     "name": "stdout",
     "output_type": "stream",
     "text": [
      "Yes!\n",
      "True!\n"
     ]
    }
   ],
   "source": [
    "x = 15\n",
    "name = \"Pelle\"\n",
    "\n",
    "if x < 10 or name == \"Fredrik\":\n",
    "    print(\"Yes!\")\n",
    "    print(\"True!\")\n",
    "elif name == \"Kalle\":\n",
    "    print(\"Hello Kalle!\")\n",
    "elif name == \"Pelle\":\n",
    "    print(\"Hello Pelle!\")\n",
    "elif name == \"Anders\":\n",
    "    print(\"Hello Anders!\")\n",
    "else:\n",
    "    print(\"No!\")\n",
    "    print(\"False!\")\n",
    "\n",
    "\n"
   ]
  },
  {
   "cell_type": "markdown",
   "metadata": {},
   "source": [
    "# On line if statment\n",
    "When the if statment is followed by only one statment."
   ]
  },
  {
   "cell_type": "code",
   "execution_count": 24,
   "metadata": {},
   "outputs": [
    {
     "name": "stdout",
     "output_type": "stream",
     "text": [
      "Yes!\n"
     ]
    }
   ],
   "source": [
    "name = \"Fredrik\"\n",
    "\n",
    "if x < 10 or name == \"Fredrik\": print(\"Yes!\")\n"
   ]
  },
  {
   "cell_type": "markdown",
   "metadata": {},
   "source": [
    "# Ternary operator\n",
    "A special operator that take three operands and returns on of those choices depending on if the middle expression evaulate to true or false. (*TrueValue* if *expression* else *FalseValue*)"
   ]
  },
  {
   "cell_type": "code",
   "execution_count": 31,
   "metadata": {},
   "outputs": [
    {
     "name": "stdout",
     "output_type": "stream",
     "text": [
      "Fred ???\n",
      "Please wait 15 seconds\n"
     ]
    }
   ],
   "source": [
    "name = \"Fred\"\n",
    "lastname = (\"Johansson\" if name == \"Fredrik\" else \"???\")\n",
    "\n",
    "print(f\"{name} {lastname}\")\n",
    "\n",
    "seconds = 15\n",
    "print(f\"Please wait {seconds} second{'s' if seconds != 1 else ''}\")\n"
   ]
  }
 ],
 "metadata": {
  "kernelspec": {
   "display_name": "Python-AI23-PtEMjJox",
   "language": "python",
   "name": "python3"
  },
  "language_info": {
   "codemirror_mode": {
    "name": "ipython",
    "version": 3
   },
   "file_extension": ".py",
   "mimetype": "text/x-python",
   "name": "python",
   "nbconvert_exporter": "python",
   "pygments_lexer": "ipython3",
   "version": "3.9.0"
  },
  "orig_nbformat": 4
 },
 "nbformat": 4,
 "nbformat_minor": 2
}
