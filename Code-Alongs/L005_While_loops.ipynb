{
 "cells": [
  {
   "cell_type": "markdown",
   "metadata": {},
   "source": [
    "# Loops\n",
    "Python has two primitive loop commands:\n",
    "- while loops\n",
    "- for loops"
   ]
  },
  {
   "cell_type": "markdown",
   "metadata": {},
   "source": [
    "## The while loop\n",
    "Executes a set of statments as long as a condition is true."
   ]
  },
  {
   "cell_type": "code",
   "execution_count": 8,
   "metadata": {},
   "outputs": [
    {
     "name": "stdout",
     "output_type": "stream",
     "text": [
      "10: Hello world\n",
      " 8: Hello world\n",
      " 6: Hello world\n",
      " 4: Hello world\n",
      " 2: Hello world\n",
      "End.\n"
     ]
    }
   ],
   "source": [
    "counter = 10\n",
    "\n",
    "while counter > 0:\n",
    "    print(f\"{counter:2d}: Hello world\")\n",
    "    counter -= 2\n",
    "\n",
    "print(\"End.\")\n"
   ]
  },
  {
   "cell_type": "markdown",
   "metadata": {},
   "source": [
    "## The break statment\n",
    "Used to stop the loop immedietly."
   ]
  },
  {
   "cell_type": "code",
   "execution_count": 12,
   "metadata": {},
   "outputs": [
    {
     "name": "stdout",
     "output_type": "stream",
     "text": [
      "10: Hello world\n",
      " 9: Hello world\n",
      " 8: Hello world\n",
      " 7: Hello world\n",
      " 6: Hello world\n",
      " 5: Hello world\n",
      " 4: Hello world\n",
      " 3: Hello world\n",
      " 2: Hello world\n",
      " 1: Hello world\n",
      "End.\n"
     ]
    }
   ],
   "source": [
    "counter = 10\n",
    "\n",
    "while True:\n",
    "    print(f\"{counter:2d}: Hello world\")\n",
    "    counter -= 1\n",
    "    if counter <= 0: break\n",
    "\n",
    "print(\"End.\")\n"
   ]
  },
  {
   "cell_type": "markdown",
   "metadata": {},
   "source": [
    "## The continue statement\n",
    "Used to stop the current iteration of the loop, and continue with the next."
   ]
  },
  {
   "cell_type": "code",
   "execution_count": 17,
   "metadata": {},
   "outputs": [
    {
     "name": "stdout",
     "output_type": "stream",
     "text": [
      "1: Print this!\n",
      "2: Print this!\n",
      "3: Print this!\n",
      "Don't print this!\n",
      "4: Print this!\n",
      "Don't print this!\n",
      "5: Print this!\n",
      "Don't print this!\n",
      "End.\n"
     ]
    }
   ],
   "source": [
    "counter = 0\n",
    "while counter < 5:\n",
    "    counter += 1\n",
    "    print(f\"{counter}: Print this!\")\n",
    "    if (counter < 3): continue\n",
    "    print(\"Don't print this!\")\n",
    "\n",
    "print(\"End.\")"
   ]
  },
  {
   "cell_type": "markdown",
   "metadata": {},
   "source": [
    "## The else statement\n",
    "Used to specify a block of code to be executed when the loop is finished.\n",
    "\n",
    "**Note:** *The else block will NOT be executed if the loop is stopped by a break statement.*"
   ]
  },
  {
   "cell_type": "code",
   "execution_count": 21,
   "metadata": {},
   "outputs": [
    {
     "name": "stdout",
     "output_type": "stream",
     "text": [
      "10: Hello world\n",
      " 8: Hello world\n",
      " 6: Hello world\n",
      " 4: Hello world\n",
      " 2: Hello world\n",
      "End.\n"
     ]
    }
   ],
   "source": [
    "counter = 10\n",
    "\n",
    "while counter > 0:\n",
    "    print(f\"{counter:2d}: Hello world\")\n",
    "    counter -= 2\n",
    "    # break\n",
    "else:\n",
    "    print(\"End.\")"
   ]
  }
 ],
 "metadata": {
  "kernelspec": {
   "display_name": "Python-AI23-PtEMjJox",
   "language": "python",
   "name": "python3"
  },
  "language_info": {
   "codemirror_mode": {
    "name": "ipython",
    "version": 3
   },
   "file_extension": ".py",
   "mimetype": "text/x-python",
   "name": "python",
   "nbconvert_exporter": "python",
   "pygments_lexer": "ipython3",
   "version": "3.9.0"
  },
  "orig_nbformat": 4
 },
 "nbformat": 4,
 "nbformat_minor": 2
}
