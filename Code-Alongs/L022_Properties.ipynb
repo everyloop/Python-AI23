{
 "cells": [
  {
   "cell_type": "markdown",
   "metadata": {},
   "source": [
    "# Properties (sing. Property, sv. Egenskap)\n",
    "A property is a python construction (or OOP concept) that works similar to an attribute, with the difference that an attribute stores (and reads) the value directly to memory, while a property uses getter and setter methods to change the values of the property.\n",
    "\n",
    "From the \"outside\" (of the class definition) when a property of an object is set, the objects internal setter method will be called to handle the operation. This method is marked in the class definition by a decorator called {name}.setter (where \"name\" is the name of the property)\n",
    "\n",
    "When the property is read (from the \"outside\"), the objects internal getter method will be callled to return a value. The getter method is marked in the class definition by a decorator called @property"
   ]
  },
  {
   "cell_type": "code",
   "execution_count": 30,
   "metadata": {},
   "outputs": [],
   "source": [
    "class Employee:\n",
    "    def __init__(self, name, salary):\n",
    "        self.name = name\n",
    "        self.salary = salary\n",
    "\n",
    "    # Getter method\n",
    "    @property\n",
    "    def salary(self):\n",
    "        return self._salary\n",
    "\n",
    "    # Setter method\n",
    "    @salary.setter\n",
    "    def salary(self, salary):\n",
    "        self._salary = 0 if salary < 0 else salary\n",
    "\n",
    "    "
   ]
  },
  {
   "cell_type": "code",
   "execution_count": 33,
   "metadata": {},
   "outputs": [
    {
     "name": "stdout",
     "output_type": "stream",
     "text": [
      "0\n"
     ]
    }
   ],
   "source": [
    "PI = 3.1415\n",
    "\n",
    "employee = Employee(\"Anders\", 40000)\n",
    "employee2 = Employee(\"Bertil\", -40000)\n",
    "\n",
    "employee.salary = -5000\n",
    "print(employee.salary)\n",
    "\n",
    "# employee.set_salary = 50000\n",
    "# employee2.set_salary(-40000)\n",
    "\n",
    "# print(employee.get_salary())\n",
    "# print(employee2.get_salary())"
   ]
  }
 ],
 "metadata": {
  "kernelspec": {
   "display_name": "Python-AI23-PtEMjJox",
   "language": "python",
   "name": "python3"
  },
  "language_info": {
   "codemirror_mode": {
    "name": "ipython",
    "version": 3
   },
   "file_extension": ".py",
   "mimetype": "text/x-python",
   "name": "python",
   "nbconvert_exporter": "python",
   "pygments_lexer": "ipython3",
   "version": "3.9.0"
  },
  "orig_nbformat": 4
 },
 "nbformat": 4,
 "nbformat_minor": 2
}
