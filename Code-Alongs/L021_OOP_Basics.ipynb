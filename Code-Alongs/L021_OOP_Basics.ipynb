{
 "cells": [
  {
   "cell_type": "markdown",
   "metadata": {},
   "source": [
    "# Object oriented programming (OOP)\n",
    "- A \"class\" is a blue print that can be used to create objects\n",
    "- An \"instance\" is the actually object containg data and methods\n"
   ]
  },
  {
   "cell_type": "code",
   "execution_count": 37,
   "metadata": {},
   "outputs": [
    {
     "name": "stdout",
     "output_type": "stream",
     "text": [
      "Fredrik Johansson\n",
      "Anna Karlsson\n"
     ]
    }
   ],
   "source": [
    "student_a = {\"FirstName\": \"Fredrik\", \"LastName\": \"Johansson\", \"Age\": 42, \"Grade\": 3.4}\n",
    "student_b = {\"FirstName\": \"Anna\", \"LastName\": \"Karlsson\", \"Age\": 24, \"Grade\": 4.2}\n",
    "\n",
    "students = [student_a, student_b]\n",
    "\n",
    "def set_grade(student, grade):\n",
    "    student[\"Grade\"] = grade\n",
    "\n",
    "def get_name(student):\n",
    "    return f'{student[\"FirstName\"]} {student[\"LastName\"]}'\n",
    "\n",
    "for student in students:\n",
    "    set_grade(student, 3.0)\n",
    "    print(get_name(student))\n",
    "\n",
    "pass\n",
    "\n",
    "\n"
   ]
  },
  {
   "cell_type": "code",
   "execution_count": 30,
   "metadata": {},
   "outputs": [],
   "source": [
    "class Student:\n",
    "    def __init__(self, name, grade):\n",
    "        self.grade = grade\n",
    "        self.name = name\n",
    "\n",
    "    def set_grade(self, grade):\n",
    "        self.grade = grade"
   ]
  },
  {
   "cell_type": "code",
   "execution_count": 38,
   "metadata": {},
   "outputs": [
    {
     "name": "stdout",
     "output_type": "stream",
     "text": [
      "{'grade': 4.5, 'name': 'Fredrik'}\n",
      "{'grade': 3.3, 'name': 'Anna'}\n",
      "\n",
      "{'grade': 4.6, 'name': 'Fredrik', 'age': 42}\n",
      "{'grade': 3.2, 'name': 'Anna'}\n"
     ]
    }
   ],
   "source": [
    "student_a = Student(\"Fredrik\", 4.5)\n",
    "student_b = Student(\"Anna\", 3.3)\n",
    "\n",
    "print(student_a.__dict__)\n",
    "print(student_b.__dict__)\n",
    "student_a.set_grade(4.6)\n",
    "student_b.set_grade(3.2)\n",
    "student_a.age = 42\n",
    "print()\n",
    "print(student_a.__dict__)\n",
    "print(student_b.__dict__)"
   ]
  },
  {
   "cell_type": "code",
   "execution_count": 14,
   "metadata": {},
   "outputs": [
    {
     "name": "stdout",
     "output_type": "stream",
     "text": [
      "Fredrik\n",
      "Anna\n",
      "{'name': 'Fredrik', 'age': 42, 'dict': {'FirstName': 'Fredrik', 'LastName': 'Johansson', 'Age': 42, 'Grade': 3.4}}\n"
     ]
    }
   ],
   "source": [
    "student_a = Student()\n",
    "student_b = Student()\n",
    "\n",
    "student_a.name = \"Fredrik\"\n",
    "student_a.age = 42\n",
    "student_a.dict = {\"FirstName\": \"Fredrik\", \"LastName\": \"Johansson\", \"Age\": 42, \"Grade\": 3.4}\n",
    "\n",
    "student_b.name = \"Anna\"\n",
    "\n",
    "print(student_a.name)\n",
    "print(student_b.name)\n",
    "print(student_a.__dict__[\"name\"])\n"
   ]
  },
  {
   "cell_type": "code",
   "execution_count": 94,
   "metadata": {},
   "outputs": [],
   "source": [
    "class Cat:\n",
    "    def __init__(self, name, age):\n",
    "        self.name = name\n",
    "        self.age = age\n",
    "        self.best_friend = None\n",
    "\n",
    "    def greet_other(self, other):\n",
    "        print(f\"Hi {other.name}, my name is {self.name}, \", end=\"\")\n",
    "        if other.age < self.age:\n",
    "            print(f\"and I'm {self.age-other.age} year older than you.\")\n",
    "        elif other.age == self.age:\n",
    "            print(f\"and we are both {self.age} year old.\")\n",
    "        else:\n",
    "            print(f\"and I'm {other.age-self.age} year younger than you.\")\n",
    "\n",
    "    def greet(self, other = None):\n",
    "        if other is None:\n",
    "            print(f\"Hello, I'm {self.name}, and I'm {self.age} years old.\")\n",
    "        else:\n",
    "            self.greet_other(other)\n",
    "        \n",
    "    def print_best_friend(self):\n",
    "        if not hasattr(self, \"best_friend\"): return\n",
    "        if self.best_friend is None: return\n",
    "        \n",
    "        print(f\"I'm {self.name}, and my best friend is {self.best_friend.name}\")\n"
   ]
  },
  {
   "cell_type": "code",
   "execution_count": 95,
   "metadata": {},
   "outputs": [
    {
     "name": "stdout",
     "output_type": "stream",
     "text": [
      "I'm Misse, and my best friend is Mjau\n",
      "I'm Kisse, and my best friend is Kisse\n",
      "I'm Mjau, and my best friend is Misse\n",
      "Hello, I'm Misse, and I'm 3 years old.\n",
      "Hello, I'm Kisse, and I'm 2 years old.\n",
      "Hi Kisse, my name is Misse, and I'm 1 year older than you.\n",
      "Hi Mjau, my name is Misse, and I'm 2 year younger than you.\n",
      "Hi Jens, my name is Misse, and we are both 3 year old.\n"
     ]
    }
   ],
   "source": [
    "my_cat = Cat(\"Misse\", 3)\n",
    "my_other_cat = Cat(\"Kisse\", 2)\n",
    "my_third_cat = Cat(\"Mjau\", 5)\n",
    "my_fourth_cat = Cat(\"Jens\", 3)\n",
    "\n",
    "my_cat.best_friend = my_third_cat\n",
    "my_other_cat.best_friend = my_other_cat\n",
    "my_third_cat.best_friend = my_cat\n",
    "my_fourth_cat.best_friend = None\n",
    "\n",
    "cats = [my_cat, my_other_cat, my_third_cat, my_fourth_cat]\n",
    "\n",
    "for cat in cats:\n",
    "    cat.print_best_friend()\n",
    "\n",
    "# My name is Misse, and my best friend is Mjau.\n",
    "\n",
    "my_cat.greet()\n",
    "my_other_cat.greet()\n",
    "# Hello, I'm Misse, and I'm 3 years old\n",
    "\n",
    "my_cat.greet(my_other_cat)\n",
    "my_cat.greet(my_third_cat)\n",
    "my_cat.greet(my_fourth_cat)\n",
    "# Hi Kisse, my name is Misse, and I'm 1 year older than you."
   ]
  },
  {
   "cell_type": "code",
   "execution_count": 78,
   "metadata": {},
   "outputs": [
    {
     "name": "stdout",
     "output_type": "stream",
     "text": [
      "I'm Misse, and my best friend is Mjau\n",
      "I'm Kisse, and my best friend is Kisse\n",
      "I'm Mjau, and my best friend is Misse\n",
      "\n",
      "Hello, I'm Misse, and I'm 3 years old.\n",
      "Hello, I'm Kisse, and I'm 2 years old.\n",
      "Hello, I'm Mjau, and I'm 5 years old.\n",
      "Hello, I'm Jens, and I'm 3 years old.\n",
      "\n",
      "Hi Kisse, my name is Misse, and I'm 1 year older than you.\n",
      "Hi Mjau, my name is Misse, and I'm 2 year younger than you.\n",
      "Hi Jens, my name is Misse, and we are both 3 year old.\n"
     ]
    }
   ],
   "source": [
    "cats = []\n",
    "cats.append(Cat(\"Misse\", 3))\n",
    "cats.append(Cat(\"Kisse\", 2))\n",
    "cats.append(Cat(\"Mjau\", 5))\n",
    "cats.append(Cat(\"Jens\", 3))\n",
    "\n",
    "cats[0].best_friend = cats[2]\n",
    "cats[1].best_friend = cats[1]\n",
    "cats[2].best_friend = cats[0]\n",
    "cats[3].best_friend = None\n",
    "\n",
    "for cat in cats:\n",
    "    cat.print_best_friend()\n",
    "\n",
    "print()\n",
    "for cat in cats:\n",
    "    cat.greet()\n",
    "\n",
    "print()\n",
    "for cat in cats[1:]:\n",
    "    cats[0].greet(cat)"
   ]
  },
  {
   "cell_type": "code",
   "execution_count": 49,
   "metadata": {},
   "outputs": [
    {
     "name": "stdout",
     "output_type": "stream",
     "text": [
      "Hello Fredrik\n",
      "Hello None\n"
     ]
    }
   ],
   "source": [
    "def greet(name=None):\n",
    "    if name is None:\n",
    "        print(f\"Hello\")\n",
    "\n",
    "greet(\"Fredrik\")\n",
    "greet()"
   ]
  },
  {
   "cell_type": "code",
   "execution_count": 73,
   "metadata": {},
   "outputs": [
    {
     "name": "stdout",
     "output_type": "stream",
     "text": [
      "Måns\n"
     ]
    }
   ],
   "source": [
    "student = Student(\"Kalle\", 4.3)\n",
    "\n",
    "student.pet = Cat(\"Måns\", 6)\n",
    "\n",
    "print(student.pet.name)"
   ]
  }
 ],
 "metadata": {
  "kernelspec": {
   "display_name": "Python-AI23-PtEMjJox",
   "language": "python",
   "name": "python3"
  },
  "language_info": {
   "codemirror_mode": {
    "name": "ipython",
    "version": 3
   },
   "file_extension": ".py",
   "mimetype": "text/x-python",
   "name": "python",
   "nbconvert_exporter": "python",
   "pygments_lexer": "ipython3",
   "version": "3.9.0"
  },
  "orig_nbformat": 4
 },
 "nbformat": 4,
 "nbformat_minor": 2
}
