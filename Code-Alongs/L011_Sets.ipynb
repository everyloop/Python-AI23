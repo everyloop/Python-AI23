{
 "cells": [
  {
   "cell_type": "markdown",
   "metadata": {},
   "source": [
    "# Sets\n",
    "- Set items are unordered, unchangable, and do not allow duplicate values.\n",
    "- Item can *not* be access using indexes or slicing.\n",
    "- Set item can be of any data type,and can contain different data type."
   ]
  },
  {
   "cell_type": "code",
   "execution_count": 36,
   "metadata": {},
   "outputs": [
    {
     "name": "stdout",
     "output_type": "stream",
     "text": [
      "len(a) = 8\n",
      "a = {1, 3, 4, 5, 9, 11, 12}\n"
     ]
    }
   ],
   "source": [
    "# Create empty set\n",
    "empty_set = set()\n",
    "\n",
    "# Create set with values\n",
    "a = {1, 3, 5, 3, 4, 10}\n",
    "\n",
    "# Add value to set\n",
    "a.add(12)\n",
    "\n",
    "a.update({9, 10, 11})\n",
    "\n",
    "# Get number of items in set\n",
    "print(f\"{len(a) = }\")\n",
    "\n",
    "# Remove element from set if it exists\n",
    "a.discard(10)\n",
    "\n",
    "# Print set\n",
    "print(f\"{a = }\")"
   ]
  },
  {
   "cell_type": "markdown",
   "metadata": {},
   "source": [
    "## Combining sets\n",
    "Sets can be combined in several ways:\n",
    "- **Union:** Return a set that contains all items from both set, duplicates are excluded.\n",
    "- **Intersection:** Return a set that contains the items that exists in both set *a*, and set *b*\n",
    "- **Difference:** Return a set that contains the items that only exists in set *a*, and not in set *b*\n",
    "- **Symetric difference:** Return a set that contains all items from both sets, except items that are present i both set."
   ]
  },
  {
   "cell_type": "code",
   "execution_count": 31,
   "metadata": {},
   "outputs": [
    {
     "name": "stdout",
     "output_type": "stream",
     "text": [
      "a ={1, 3, 4, 5, 9, 11, 12}\n",
      "b ={2, 4, 5, 6, 10, 11, 15}\n",
      "\n",
      "a.union(b, {1, 77, 89}) ={1, 2, 3, 4, 5, 6, 9, 10, 11, 12, 77, 15, 89}\n",
      "a.intersection(b) ={11, 4, 5}\n",
      "a.difference(b) ={1, 3, 12, 9}\n",
      "b.difference(a) ={2, 10, 6, 15}\n",
      "a.symmetric_difference(b) ={1, 2, 3, 6, 9, 10, 12, 15}\n"
     ]
    }
   ],
   "source": [
    "b = {2, 4, 5, 6, 10, 11, 15}\n",
    "\n",
    "print(f\"{a =}\\n{b =}\\n\")\n",
    "\n",
    "print(f\"{a.union(b) =}\")\n",
    "print(f\"{a.intersection(b) =}\")\n",
    "print(f\"{a.difference(b) =}\")\n",
    "print(f\"{b.difference(a) =}\")\n",
    "print(f\"{a.symmetric_difference(b) =}\")"
   ]
  }
 ],
 "metadata": {
  "kernelspec": {
   "display_name": "Python-AI23-PtEMjJox",
   "language": "python",
   "name": "python3"
  },
  "language_info": {
   "codemirror_mode": {
    "name": "ipython",
    "version": 3
   },
   "file_extension": ".py",
   "mimetype": "text/x-python",
   "name": "python",
   "nbconvert_exporter": "python",
   "pygments_lexer": "ipython3",
   "version": "3.9.0"
  },
  "orig_nbformat": 4
 },
 "nbformat": 4,
 "nbformat_minor": 2
}
