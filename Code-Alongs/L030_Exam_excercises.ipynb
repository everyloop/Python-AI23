{
 "cells": [
  {
   "cell_type": "markdown",
   "metadata": {},
   "source": [
    "### Uppgift 2\n",
    "Skriv en funktion som tar in en radie och en höjd som inparametrar och som returnerar volymen av en\n",
    "cylinder.\n",
    "\n",
    "Volymen för en cylinder är:\n",
    "\n",
    "V = πr²h\n",
    "\n",
    "Låt användaren mata in en radie och en höjd och kör funktionen. Tänk på att ta med lämplig felhantering."
   ]
  },
  {
   "cell_type": "code",
   "execution_count": 16,
   "metadata": {},
   "outputs": [
    {
     "name": "stdout",
     "output_type": "stream",
     "text": [
      "31.41592653589793\n"
     ]
    }
   ],
   "source": [
    "from math import pi\n",
    "\n",
    "def cylinder_volume(r, h):\n",
    "    return pi*r**2*h\n",
    "\n",
    "while True:\n",
    "    try:\n",
    "        radius = float(input(\"Input radius: \"))\n",
    "        height = float(input(\"Input height: \"))\n",
    "        print(cylinder_volume(radius, height))\n",
    "        break\n",
    "    except ValueError:\n",
    "        print(\"Please input only numbers!\")\n"
   ]
  },
  {
   "cell_type": "markdown",
   "metadata": {},
   "source": [
    "### Uppgift 3\n",
    "Simulera 1000000 tärningskast och beräkna antalet ettor, tvåor, treor, fyror, femmor och sexor. Spara\n",
    "resultatet i en lämplig datastruktur.\n"
   ]
  },
  {
   "cell_type": "code",
   "execution_count": 22,
   "metadata": {},
   "outputs": [
    {
     "name": "stdout",
     "output_type": "stream",
     "text": [
      "1: 166793\n",
      "2: 166609\n",
      "3: 166816\n",
      "4: 166565\n",
      "5: 166283\n",
      "6: 166934\n"
     ]
    }
   ],
   "source": [
    "import random\n",
    "\n",
    "dice_results = [0] * 6\n",
    "\n",
    "for i in range(1_000_000):\n",
    "    result = random.randint(1, 6)\n",
    "    dice_results[result - 1] += 1\n",
    "\n",
    "for result, count in enumerate(dice_results, start=1):\n",
    "    print(f\"{result}: {count}\")\n"
   ]
  },
  {
   "cell_type": "markdown",
   "metadata": {},
   "source": [
    "### Uppgift 4\n",
    "Skapa en funktion som tar in ett heltal n som parameter och skriver ut mönstret nedan.\n",
    "\n",
    "Exempel när n = 7:\n",
    "``` python\n",
    "x x x x x x x\n",
    "x o x o x o x\n",
    "x x x x x x x\n",
    "x o x o x o x\n",
    "x x x x x x x\n",
    "x o x o x o x\n",
    "x x x x x x x\n",
    "```"
   ]
  },
  {
   "cell_type": "code",
   "execution_count": 11,
   "metadata": {},
   "outputs": [
    {
     "name": "stdout",
     "output_type": "stream",
     "text": [
      "x x x x x x x \n",
      "x o x o x o x \n",
      "x x x x x x x \n",
      "x o x o x o x \n",
      "x x x x x x x \n",
      "x o x o x o x \n",
      "x x x x x x x \n"
     ]
    }
   ],
   "source": [
    "def pattern(n):\n",
    "    for y in range(n):\n",
    "        for x in range(n):\n",
    "            print('o' if y % 2 == 1 and x % 2 == 1 else 'x', end=' ')\n",
    "        print()\n",
    "                    \n",
    "pattern(7)"
   ]
  },
  {
   "cell_type": "markdown",
   "metadata": {},
   "source": [
    "### Uppgift 5\n",
    "Skapa en funktion som tar in en summa pengar.\n",
    "\n",
    "Den ska printa ut en representation av sedlar och mynt som representerar summan.\n",
    "\n",
    "Exempel 3214 ska ge:\n",
    "\n",
    "``` text\n",
    "Tusenlapp: 3\n",
    "Tvåhundralapp: 1\n",
    "Tiokrona: 1\n",
    "Enkrona: 4\n",
    "```"
   ]
  },
  {
   "cell_type": "code",
   "execution_count": 27,
   "metadata": {},
   "outputs": [
    {
     "name": "stdout",
     "output_type": "stream",
     "text": [
      "[['Tusenlapp: ', 3], ['Tvåhundralapp: ', 1], ['Tia: ', 1], ['Tvåkrona: ', 2]]\n"
     ]
    }
   ],
   "source": [
    "def print_change(amount):\n",
    "\n",
    "    currency = {\n",
    "            1000: [\"Tusenlapp: \", 0],\n",
    "            500: [\"Femhundralapp: \", 0],\n",
    "            200: [\"Tvåhundralapp: \", 0],\n",
    "            100: [\"Hundralapp: \", 0],\n",
    "            50: [\"Femtiolapp: \", 0],\n",
    "            20: [\"Tjugolapp: \", 0],\n",
    "            10: [\"Tia: \", 0],\n",
    "            5: [\"Femkrona: \", 0],\n",
    "            2: [\"Tvåkrona: \", 0],\n",
    "            1: [\"Enkrona: \", 0],\n",
    "        }\n",
    "\n",
    "    while amount != 0:\n",
    "        for key, value in currency.items():\n",
    "            while amount - key >= 0:\n",
    "                amount -= key\n",
    "                currency[key][1] += 1                \n",
    "\n",
    "    result = []\n",
    "\n",
    "    for value in currency.values():\n",
    "        if value[1] != 0:\n",
    "            result.append(value)\n",
    "\n",
    "    print(result)\n",
    "\n",
    "print_change(3214)"
   ]
  },
  {
   "cell_type": "markdown",
   "metadata": {},
   "source": [
    "### Uppgift 6 (4p)\n",
    "Du har följande kod:\n",
    "``` python\n",
    "class Animal:\n",
    "    def __init__(self, name):\n",
    "        self.name = name\n",
    "\n",
    "    def __str__(self):\n",
    "        return f\"Animal {self.name}\"\n",
    "\n",
    "class Dog(Animal):\n",
    "# notera att __init__ är nedärvd\n",
    "    def __repr__(self):\n",
    "        return f\"Dog: {self.name}\"\n",
    "\n",
    "class Fish(Animal):\n",
    "    def __repr__(self):\n",
    "        return f\"Fish: {self.name}\"\n",
    "        \n",
    "# TO-DO: implementera PetOwner\n",
    "class PetOwner:\n",
    "    ...\n",
    "\n",
    "# manuell test av PetOwner\n",
    "owner1 = PetOwner(\"Ada\",[\"Snoopy\", \"Pluto\"], [\"Fishy\", \"Buppy\"])\n",
    "owner2 = PetOwner(\"Beda\", [\"Barkly\"] )\n",
    "print(owner1)\n",
    "print(owner2)\n",
    "```\n",
    "Implementera PetOwner klassen så att du får liknande utskrift som nedan med det manuella testet.\n",
    "\n",
    "``` text\n",
    "Ada owns:\n",
    "[Dog: Snoopy, Dog: Pluto]\n",
    "[Fish: Fishy, Fish: Buppy]\n",
    "Beda owns:\n",
    "[Dog: Barkly]\n",
    "```\n"
   ]
  },
  {
   "cell_type": "code",
   "execution_count": 13,
   "metadata": {},
   "outputs": [
    {
     "name": "stdout",
     "output_type": "stream",
     "text": [
      "Ada owns:\n",
      "[Dog: Snoopy, Dog: Pluto]\n",
      "['Fish: Fishy', 'Fish: Buppy']\n",
      "\n",
      "Beda owns:\n",
      "[Dog: Barkly]\n",
      "\n"
     ]
    }
   ],
   "source": [
    "class Animal:\n",
    "    def __init__(self, name):\n",
    "        self.name = name\n",
    "\n",
    "    def __str__(self):\n",
    "        return f\"Animal {self.name}\"\n",
    "\n",
    "class Dog(Animal):\n",
    "# notera att __init__ är nedärvd\n",
    "    def __repr__(self):\n",
    "        return f\"Dog: {self.name}\"\n",
    "\n",
    "class Fish(Animal):\n",
    "    def __repr__(self):\n",
    "        return f\"Fish: {self.name}\"\n",
    "        \n",
    "# TO-DO: implementera PetOwner\n",
    "class PetOwner:\n",
    "    def __init__(self, name, dogs = [], fish = []):\n",
    "        self.name = name\n",
    "        self.dogs = [Dog(name) for name in dogs]\n",
    "        self.fish = [Fish(name) for name in fish]\n",
    "\n",
    "# Ada owns:\n",
    "# [Dog: Snoopy, Dog: Pluto]\n",
    "# [Fish: Fishy, Fish: Buppy]\n",
    "\n",
    "    def __str__(self):\n",
    "        text = self.name + \" owns:\\n\"\n",
    "        if self.dogs:\n",
    "            text += \"[\" + \", \".join([repr(dog) for dog in self.dogs]) + \"]\\n\"\n",
    "        if self.fish:\n",
    "            text += str([repr(fish) for fish in self.fish]) + \"\\n\"\n",
    "\n",
    "        return text\n",
    "\n",
    "# manuell test av PetOwner\n",
    "owner1 = PetOwner(\"Ada\",[\"Snoopy\", \"Pluto\"], [\"Fishy\", \"Buppy\"])\n",
    "owner2 = PetOwner(\"Beda\", [\"Barkly\"] )\n",
    "print(owner1)\n",
    "print(owner2)\n",
    "\n"
   ]
  }
 ],
 "metadata": {
  "kernelspec": {
   "display_name": "Python-AI23-PtEMjJox",
   "language": "python",
   "name": "python3"
  },
  "language_info": {
   "codemirror_mode": {
    "name": "ipython",
    "version": 3
   },
   "file_extension": ".py",
   "mimetype": "text/x-python",
   "name": "python",
   "nbconvert_exporter": "python",
   "pygments_lexer": "ipython3",
   "version": "3.11.5"
  }
 },
 "nbformat": 4,
 "nbformat_minor": 2
}
