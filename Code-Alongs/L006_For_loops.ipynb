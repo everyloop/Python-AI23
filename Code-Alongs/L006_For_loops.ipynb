{
 "cells": [
  {
   "cell_type": "markdown",
   "metadata": {},
   "source": [
    "# For loops\n",
    "A for loop is used for iterating over a sequence. (Example: a list, a string, a dictionary, or a range)\n",
    "\n",
    "This is less like the for keyword in other programming languages, and works more like an iterator method as found in other object-oriented programming languages. (ex. C#'s foreach-loop)"
   ]
  },
  {
   "cell_type": "code",
   "execution_count": 1,
   "metadata": {},
   "outputs": [
    {
     "name": "stdout",
     "output_type": "stream",
     "text": [
      "Fredrik\n",
      "Camilla\n",
      "Anna\n",
      "Anders\n",
      "Erik\n"
     ]
    }
   ],
   "source": [
    "# Example 1, iterating over the items in a list:\n",
    "names = [\"Fredrik\", \"Camilla\", \"Anna\", \"Anders\", \"Erik\"]\n",
    "\n",
    "for name in names:\n",
    "    print(name)"
   ]
  },
  {
   "cell_type": "code",
   "execution_count": 8,
   "metadata": {},
   "outputs": [
    {
     "name": "stdout",
     "output_type": "stream",
     "text": [
      "Using only stop value (start defaults to zero):\n",
      "0\n",
      "1\n",
      "2\n",
      "\n",
      "Using start and stop values (start is inclusive, stop is exclusive):\n",
      "10\n",
      "11\n",
      "12\n",
      "\n",
      "Using start stop and step values (step defaults to 1):\n",
      "10\n",
      "12\n",
      "14\n",
      "16\n",
      "18\n",
      "\n",
      "Can also count reversed using a negative step value:\n",
      "20\n",
      "17\n",
      "14\n",
      "11\n"
     ]
    }
   ],
   "source": [
    "# Example 2, iterating over a range\n",
    "\n",
    "print(\"Using only stop value (start defaults to zero):\")\n",
    "for i in range(3):\n",
    "    print(i)\n",
    "\n",
    "print(\"\\nUsing start and stop values (start is inclusive, stop is exclusive):\")\n",
    "for i in range(10, 13):\n",
    "    print(i)\n",
    "\n",
    "print(\"\\nUsing start stop and step values (step defaults to 1):\")\n",
    "for i in range(10, 20, 2):\n",
    "    print(i)\n",
    "\n",
    "print(\"\\nCan also count reversed using a negative step value:\")\n",
    "for i in range(20, 10, -3):\n",
    "    print(i)\n"
   ]
  },
  {
   "cell_type": "markdown",
   "metadata": {},
   "source": [
    "## Like While loops, for loops can also use the following statments:\n",
    "- Continue\n",
    "- Break\n",
    "- Else"
   ]
  },
  {
   "cell_type": "markdown",
   "metadata": {},
   "source": [
    "## Nested loops\n",
    "A loop within a loop"
   ]
  },
  {
   "cell_type": "code",
   "execution_count": 15,
   "metadata": {},
   "outputs": [
    {
     "name": "stdout",
     "output_type": "stream",
     "text": [
      "01234\n",
      "01234\n",
      "01234\n"
     ]
    }
   ],
   "source": [
    "for y in range(3):\n",
    "    for x in range(5):\n",
    "        print(x, end=\"\")\n",
    "    print()\n",
    "\n"
   ]
  }
 ],
 "metadata": {
  "kernelspec": {
   "display_name": "Python-AI23-PtEMjJox",
   "language": "python",
   "name": "python3"
  },
  "language_info": {
   "codemirror_mode": {
    "name": "ipython",
    "version": 3
   },
   "file_extension": ".py",
   "mimetype": "text/x-python",
   "name": "python",
   "nbconvert_exporter": "python",
   "pygments_lexer": "ipython3",
   "version": "3.9.0"
  },
  "orig_nbformat": 4
 },
 "nbformat": 4,
 "nbformat_minor": 2
}
