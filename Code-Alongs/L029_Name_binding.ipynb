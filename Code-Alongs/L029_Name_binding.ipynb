{
 "cells": [
  {
   "cell_type": "markdown",
   "metadata": {},
   "source": [
    "# Name binding\n",
    "- Everything in Python is an object, meaning every entity has some metadata (attributes) and associated functionality (methods).\n",
    "- Names can be bound to any object."
   ]
  },
  {
   "cell_type": "markdown",
   "metadata": {},
   "source": [
    "### Mutable vs immutable object\n",
    "- Numerics, strings and tuples are immutable, meaning their values can't change after they are created.\n",
    "- Almost everything else, including list, dictionaries and user-defined object, are mutable, meaning the value has methods that can change the value in-place."
   ]
  },
  {
   "cell_type": "code",
   "execution_count": 2,
   "metadata": {},
   "outputs": [
    {
     "name": "stdout",
     "output_type": "stream",
     "text": [
      "1 140725028840232\n",
      "2 140725028840264\n"
     ]
    }
   ],
   "source": [
    "a = 1\n",
    "print(a, id(a))\n",
    "a = 2\n",
    "print(a, id(a))"
   ]
  },
  {
   "cell_type": "markdown",
   "metadata": {},
   "source": [
    "# Rebinding the name vs mutating the value\n",
    "- Variables in Python doesn't work the same way as in languages like c# and java.\n",
    "- a doesn't refer to a place in memory where we store different values.\n",
    "- rather values themselves are objects in memory, and a is the name bound to it.\n",
    "- a = 2 doesn't mutate the value of 'a', but rather create a new object '2' and rebinds a to it."
   ]
  },
  {
   "cell_type": "code",
   "execution_count": 3,
   "metadata": {},
   "outputs": [
    {
     "name": "stdout",
     "output_type": "stream",
     "text": [
      "a = 1 140725028840232\n",
      "b = 1 140725028840232\n",
      "\n",
      "a = 1 140725028840232\n",
      "b = 2 140725028840264\n"
     ]
    }
   ],
   "source": [
    "a = 1\n",
    "b = a\n",
    "\n",
    "print(f\"{a = }\", id(a))\n",
    "print(f\"{b = }\", id(b))\n",
    "\n",
    "print()\n",
    "b = 2\n",
    "print(f\"{a = }\", id(a))\n",
    "print(f\"{b = }\", id(b))"
   ]
  },
  {
   "cell_type": "code",
   "execution_count": 4,
   "metadata": {},
   "outputs": [
    {
     "name": "stdout",
     "output_type": "stream",
     "text": [
      "cat_a = <__main__.Cat object at 0x00000278FDDE6A50> 0x278fdde6a50\n",
      "\n",
      "cat_a.name = 'Bill' 2718678726512\n",
      "cat_b.name = 'Bill' 2718678726512\n",
      "\n",
      "cat_a.name = 'Bull' 2718684291824\n",
      "cat_b.name = 'Bull' 2718684291824\n",
      "\n",
      "cat_a.name = 'Måns' 2718680264064\n",
      "cat_b.name = 'Bull' 2718684291824\n"
     ]
    }
   ],
   "source": [
    "class Cat:\n",
    "    def __init__(self, name):\n",
    "        self.name = name\n",
    "\n",
    "cat_a = Cat(\"Bill\")\n",
    "\n",
    "print(f\"{cat_a = }\", hex(id(cat_a)))\n",
    "\n",
    "print()\n",
    "cat_b = cat_a\n",
    "\n",
    "print(f\"{cat_a.name = }\", id(cat_a.name))\n",
    "print(f\"{cat_b.name = }\", id(cat_b.name))\n",
    "\n",
    "print()\n",
    "cat_b.name = \"Bull\"\n",
    "\n",
    "print(f\"{cat_a.name = }\", id(cat_a.name))\n",
    "print(f\"{cat_b.name = }\", id(cat_b.name))\n",
    "\n",
    "print()\n",
    "cat_a = Cat(\"Måns\")\n",
    "\n",
    "print(f\"{cat_a.name = }\", id(cat_a.name))\n",
    "print(f\"{cat_b.name = }\", id(cat_b.name))\n"
   ]
  },
  {
   "cell_type": "markdown",
   "metadata": {},
   "source": [
    "### Names and values\n",
    "- Names refers to values.\n",
    "- Assignments never copies data.\n",
    "- Many names can refer to one value.\n",
    "- Changes in a value are visible through all of its names.\n",
    "- Names are reassigned independly of other names.\n",
    "- Objects live until nothing references them. \n",
    "\n",
    "*Python keeps track of how many references each object has, and automatically cleans up objects that have none. This is called \"garbage collection\", and means that you don't have to get rid of objects, they go away by themselves when they are no longer needed.*"
   ]
  },
  {
   "cell_type": "code",
   "execution_count": 9,
   "metadata": {},
   "outputs": [
    {
     "name": "stdout",
     "output_type": "stream",
     "text": [
      "2718678389872\n",
      "2718678389872\n",
      "2718678389872\n"
     ]
    }
   ],
   "source": [
    "a = \"Pelle\"\n",
    "b = [\"Måns\", \"Pelle\", \"Bill\", \"Bull\"]\n",
    "c = Cat(\"Pelle\")\n",
    "\n",
    "print(id(a))\n",
    "print(id(b[1]))\n",
    "print(id(c.name))\n"
   ]
  },
  {
   "cell_type": "markdown",
   "metadata": {},
   "source": [
    "### References can be more than just names.\n",
    "Anything that can appear on the left-hand side of an assignment statment is a reference, such as:\n",
    "- list items\n",
    "- dictionary keys and values\n",
    "- object attributes\n",
    "- ... and so on\n"
   ]
  },
  {
   "cell_type": "code",
   "execution_count": 17,
   "metadata": {},
   "outputs": [
    {
     "name": "stdout",
     "output_type": "stream",
     "text": [
      "a = [1, 2, 3] 2718684678912\n",
      "b = [1, 2, 3] 2718684678912\n",
      "\n",
      "a = [1, 2, 3, 4] 2718684678912\n",
      "b = [1, 2, 3, 4] 2718684678912\n",
      "\n",
      "a = [1, 2, 3, 4] 2718684678912\n",
      "b = [1, 2, 3, 4] 2718684492864\n",
      "\n",
      "a == b = True\n",
      "a is b = False\n",
      "\n",
      "a = [1, 2, 3, 4] 2718684678912\n",
      "b = [1, 2, 3, 4, 5] 2718684492864\n"
     ]
    }
   ],
   "source": [
    "a = [1, 2, 3]\n",
    "b = a\n",
    "\n",
    "print(f\"{a = }\", id(a))\n",
    "print(f\"{b = }\", id(b))\n",
    "\n",
    "print()\n",
    "b.append(4)\n",
    "\n",
    "print(f\"{a = }\", id(a))\n",
    "print(f\"{b = }\", id(b))\n",
    "\n",
    "print()\n",
    "b = a.copy()\n",
    "\n",
    "print(f\"{a = }\", id(a))\n",
    "print(f\"{b = }\", id(b))\n",
    "\n",
    "print()\n",
    "print(f\"{a == b = }\")\n",
    "print(f\"{a is b = }\")\n",
    "\n",
    "print()\n",
    "b.append(5)\n",
    "\n",
    "print(f\"{a = }\", id(a))\n",
    "print(f\"{b = }\", id(b))\n",
    "\n"
   ]
  },
  {
   "cell_type": "markdown",
   "metadata": {},
   "source": [
    "### Identity vs equality\n",
    "- The *is* operator checks whether two variables refer to the same object.\n",
    "- The *==* operator checs whether the values of two variables are equal."
   ]
  },
  {
   "cell_type": "code",
   "execution_count": 23,
   "metadata": {},
   "outputs": [
    {
     "name": "stdout",
     "output_type": "stream",
     "text": [
      "cat_a.name = 'Pelle' 2718684503952\n",
      "cat_b.name = 'Pelle' 2718684497872\n",
      "\n",
      "cat_a.name = 'Pelle' 2718678389872\n",
      "cat_b.name = 'Måns' 2718684522384\n",
      "\n",
      "cat_a.friends = ['Bill', 'Bull', 'Pelle'] 2718684677888\n",
      "cat_b.friends = ['Bill', 'Bull', 'Pelle'] 2718684677888\n",
      "\n",
      "\n",
      "cat_a.friends = ['Bill', 'Bull', 'Pelle'] 2718684677888\n",
      "cat_b.friends = ['Bill', 'Bull', 'Pelle', 'Måns'] 2718684794240\n"
     ]
    }
   ],
   "source": [
    "import copy\n",
    "\n",
    "cat_a = Cat(\"Pelle\")\n",
    "cat_a.friends = [\"Bill\", \"Bull\"]\n",
    "\n",
    "cat_b = copy.copy(cat_a)\n",
    "\n",
    "print(f\"{cat_a.name = }\", id(cat_a))\n",
    "print(f\"{cat_b.name = }\", id(cat_b))\n",
    "\n",
    "print()\n",
    "cat_b.name = \"Måns\"\n",
    "\n",
    "print(f\"{cat_a.name = }\", id(cat_a.name))\n",
    "print(f\"{cat_b.name = }\", id(cat_b.name))\n",
    "\n",
    "print()\n",
    "cat_b.friends.append(\"Pelle\")\n",
    "\n",
    "print(f\"{cat_a.friends = }\", id(cat_a.friends))\n",
    "print(f\"{cat_b.friends = }\", id(cat_b.friends))\n",
    "\n",
    "print()\n",
    "cat_b = copy.deepcopy(cat_a)\n",
    "\n",
    "print()\n",
    "cat_b.friends.append(\"Måns\")\n",
    "\n",
    "print(f\"{cat_a.friends = }\", id(cat_a.friends))\n",
    "print(f\"{cat_b.friends = }\", id(cat_b.friends))\n",
    "\n"
   ]
  },
  {
   "cell_type": "markdown",
   "metadata": {},
   "source": [
    "### Shallow vs Deep copy\n",
    "- Assignment statements in Python do not create copies of objects, the only bind names to an object.\n",
    "- A **shallow copy** means constructing a new collection object and then populating it with references to the child objects found in the original. In essence, a shallow copy is only one level deep. The copying process does not recurse and therefore won't create copies of the child objects themselves.\n",
    "- A **deep copy** makes the copying process recursive. It means first constructing a new collection object and then recursively populating it with copies of the child objects found in the original. Copying an object this way walks the whole object tree to create a fully independent clone of the orignal object and all of its children."
   ]
  },
  {
   "cell_type": "code",
   "execution_count": 31,
   "metadata": {},
   "outputs": [
    {
     "name": "stdout",
     "output_type": "stream",
     "text": [
      "True\n",
      "This is my function!\n",
      "This is my function!\n",
      "Now my_func refers to a new function!\n",
      "This is my function!\n"
     ]
    }
   ],
   "source": [
    "def my_func():\n",
    "    print(\"This is my function!\")\n",
    "\n",
    "print(callable(my_func))\n",
    "\n",
    "my_func()\n",
    "\n",
    "also_my_func = my_func\n",
    "\n",
    "also_my_func()\n",
    "\n",
    "def my_func():\n",
    "    print(\"Now my_func refers to a new function!\")\n",
    "\n",
    "my_func()\n",
    "also_my_func()\n"
   ]
  },
  {
   "cell_type": "markdown",
   "metadata": {},
   "source": [
    "### Lots of things are assignments\n",
    "Just as many things can serve as reference, there are manyoperations in Python that are assignments.\n",
    "\n",
    "Each of these lines ian assignmentto the name X:"
   ]
  },
  {
   "cell_type": "code",
   "execution_count": null,
   "metadata": {},
   "outputs": [],
   "source": [
    "X = ...\n",
    "for X in ...\n",
    "[... for X in ...]\n",
    "def X(...):\n",
    "class X:\n",
    "import X\n",
    "from ... import X\n",
    "with ... as X"
   ]
  },
  {
   "cell_type": "markdown",
   "metadata": {},
   "source": [
    "It's not that these statements act kind of like assignments, but that they are real assignments. They all make the name X refer toan object, and every fact about assignments applies to all of them."
   ]
  },
  {
   "cell_type": "code",
   "execution_count": 33,
   "metadata": {},
   "outputs": [
    {
     "ename": "TypeError",
     "evalue": "'int' object is not callable",
     "output_type": "error",
     "traceback": [
      "\u001b[1;31m---------------------------------------------------------------------------\u001b[0m",
      "\u001b[1;31mTypeError\u001b[0m                                 Traceback (most recent call last)",
      "\u001b[1;32mc:\\Users\\Fredrik Johansson\\Documents\\GitHub\\Python-AI23\\Code-Alongs\\L029_Name_binding.ipynb Cell 18\u001b[0m line \u001b[0;36m2\n\u001b[0;32m      <a href='vscode-notebook-cell:/c%3A/Users/Fredrik%20Johansson/Documents/GitHub/Python-AI23/Code-Alongs/L029_Name_binding.ipynb#X24sZmlsZQ%3D%3D?line=0'>1</a>\u001b[0m \u001b[39mprint\u001b[39m \u001b[39m=\u001b[39m \u001b[39m5\u001b[39m\n\u001b[1;32m----> <a href='vscode-notebook-cell:/c%3A/Users/Fredrik%20Johansson/Documents/GitHub/Python-AI23/Code-Alongs/L029_Name_binding.ipynb#X24sZmlsZQ%3D%3D?line=1'>2</a>\u001b[0m \u001b[39mprint\u001b[39;49m(\u001b[39m\"\u001b[39;49m\u001b[39mHello world\u001b[39;49m\u001b[39m\"\u001b[39;49m)\n",
      "\u001b[1;31mTypeError\u001b[0m: 'int' object is not callable"
     ]
    }
   ],
   "source": [
    "print = 5\n",
    "print(\"Hello world\")"
   ]
  },
  {
   "cell_type": "code",
   "execution_count": 34,
   "metadata": {},
   "outputs": [
    {
     "name": "stdout",
     "output_type": "stream",
     "text": [
      "Hello world\n"
     ]
    }
   ],
   "source": [
    "del print\n",
    "print(\"Hello world\")"
   ]
  },
  {
   "cell_type": "code",
   "execution_count": 40,
   "metadata": {},
   "outputs": [
    {
     "name": "stdout",
     "output_type": "stream",
     "text": [
      "Hello world\n",
      "HELLO WORLD\n",
      "hello world\n"
     ]
    }
   ],
   "source": [
    "def my_func(function, string):\n",
    "    function(string)\n",
    "\n",
    "my_func(print, \"Hello world\")\n",
    "\n",
    "def my_func(function, string):\n",
    "    return function(string)\n",
    "\n",
    "print(my_func(str.upper, \"Hello world\"))\n",
    "print(my_func(str.lower, \"Hello world\"))\n"
   ]
  },
  {
   "cell_type": "code",
   "execution_count": 41,
   "metadata": {},
   "outputs": [
    {
     "name": "stdout",
     "output_type": "stream",
     "text": [
      "HELLO WORLD\n",
      "hello world\n",
      "Hello world\n",
      "Hello World\n"
     ]
    }
   ],
   "source": [
    "methods = [str.upper, str.lower, str.capitalize, str.title]\n",
    "\n",
    "for method in methods:\n",
    "    print(method(\"HELLO world\"))"
   ]
  },
  {
   "cell_type": "code",
   "execution_count": 42,
   "metadata": {},
   "outputs": [
    {
     "data": {
      "text/plain": [
       "[24.0, 32.5, 1.0]"
      ]
     },
     "execution_count": 42,
     "metadata": {},
     "output_type": "execute_result"
    }
   ],
   "source": [
    "list(map(float, [\"24.0\", \"32.5\", \"1\"]))"
   ]
  },
  {
   "cell_type": "code",
   "execution_count": 44,
   "metadata": {},
   "outputs": [
    {
     "data": {
      "text/plain": [
       "['kiwi', 'apple', 'melon', 'orange', 'grapes', 'pineapple']"
      ]
     },
     "execution_count": 44,
     "metadata": {},
     "output_type": "execute_result"
    }
   ],
   "source": [
    "fruits = [\"apple\", \"orange\", \"melon\", \"kiwi\", \"pineapple\", \"grapes\"]\n",
    "\n",
    "sorted(fruits, key=len)"
   ]
  },
  {
   "cell_type": "markdown",
   "metadata": {},
   "source": [
    "### Python passes function arguments by assigning to them.\n",
    "- Parameters are names use in a function\n",
    "- When calling a function, we provide actual values to be used as the arguments of the function.\n",
    "- These values are assigned to the parameter names just as if an assignment statement had been used."
   ]
  },
  {
   "cell_type": "code",
   "execution_count": null,
   "metadata": {},
   "outputs": [],
   "source": [
    "def my_func(x, y):\n",
    "    return x + y\n",
    "\n",
    "my_func(8, 9)"
   ]
  },
  {
   "cell_type": "markdown",
   "metadata": {},
   "source": [
    "When my_func is called, the name x has 8 assigned to it, and the name y has 9 assigned to it. That assignment work exactly the same as the simple assignment statments we've been talking about. The name x a dn y are local to the function, so when the function returns, those names go away. But if the values they refer to are still referenced by other name, the values lives on.\n",
    "\n",
    "Just like every other assignment, mutable values can be passed into function, and changes to the value will be visible through al of its names."
   ]
  },
  {
   "cell_type": "code",
   "execution_count": 46,
   "metadata": {},
   "outputs": [
    {
     "name": "stdout",
     "output_type": "stream",
     "text": [
      "Måns\n"
     ]
    }
   ],
   "source": [
    "def my_func(cat):\n",
    "    cat.name = \"Måns\"\n",
    "\n",
    "cat_a = Cat(\"Pelle\")\n",
    "my_func(cat_a)\n",
    "print(cat_a.name)\n"
   ]
  },
  {
   "cell_type": "code",
   "execution_count": 48,
   "metadata": {},
   "outputs": [
    {
     "name": "stdout",
     "output_type": "stream",
     "text": [
      "['A', 'B', 'C']\n",
      "['E', 'D']\n",
      "['E', 'D']\n"
     ]
    }
   ],
   "source": [
    "def set_list(list):\n",
    "    list = ['A', 'B', 'C']\n",
    "    return list\n",
    "\n",
    "def append_list(list):\n",
    "    list.append('D')\n",
    "    return list\n",
    "\n",
    "my_list = ['E']\n",
    "\n",
    "print(set_list(my_list))\n",
    "print(append_list(my_list))\n",
    "print(my_list)\n"
   ]
  }
 ],
 "metadata": {
  "kernelspec": {
   "display_name": "Python-AI23-PtEMjJox",
   "language": "python",
   "name": "python3"
  },
  "language_info": {
   "codemirror_mode": {
    "name": "ipython",
    "version": 3
   },
   "file_extension": ".py",
   "mimetype": "text/x-python",
   "name": "python",
   "nbconvert_exporter": "python",
   "pygments_lexer": "ipython3",
   "version": "3.11.5"
  },
  "orig_nbformat": 4
 },
 "nbformat": 4,
 "nbformat_minor": 2
}
