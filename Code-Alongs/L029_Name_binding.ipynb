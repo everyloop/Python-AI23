{
 "cells": [
  {
   "cell_type": "markdown",
   "metadata": {},
   "source": [
    "# Name binding\n",
    "- Everything in Python is an object, meaning every entity has some metadata (attributes) and associated functionality (methods).\n",
    "- Names can be bound to any object."
   ]
  },
  {
   "cell_type": "markdown",
   "metadata": {},
   "source": [
    "### Mutable vs immutable object\n",
    "- Numerics, strings and tuples are immutable, meaning their values can't change after they are created.\n",
    "- Almost everything else, including list, dictionaries and user-defined object, are mutable, meaning the value has methods that can change the value in-place."
   ]
  },
  {
   "cell_type": "code",
   "execution_count": 3,
   "metadata": {},
   "outputs": [
    {
     "name": "stdout",
     "output_type": "stream",
     "text": [
      "1 140725028840232\n",
      "2 140725028840264\n"
     ]
    }
   ],
   "source": [
    "a = 1\n",
    "print(a, id(a))\n",
    "a = 2\n",
    "print(a, id(a))"
   ]
  },
  {
   "cell_type": "markdown",
   "metadata": {},
   "source": [
    "# Rebinding the name vs mutating the value\n",
    "- Variables in Python doesn't work the same way as in languages like c# and java.\n",
    "- a doesn't refer to a place in memory where we store different values.\n",
    "- rather values themselves are objects in memory, and a is the name bound to it.\n",
    "- a = 2 doesn't mutate the value of 'a', but rather create a new object '2' and rebinds a to it."
   ]
  },
  {
   "cell_type": "code",
   "execution_count": 7,
   "metadata": {},
   "outputs": [
    {
     "name": "stdout",
     "output_type": "stream",
     "text": [
      "a = 1 140725028840232\n",
      "b = 1 140725028840232\n",
      "\n",
      "a = 1 140725028840232\n",
      "b = 2 140725028840264\n"
     ]
    }
   ],
   "source": [
    "a = 1\n",
    "b = a\n",
    "\n",
    "print(f\"{a = }\", id(a))\n",
    "print(f\"{b = }\", id(b))\n",
    "\n",
    "print()\n",
    "b = 2\n",
    "print(f\"{a = }\", id(a))\n",
    "print(f\"{b = }\", id(b))"
   ]
  },
  {
   "cell_type": "code",
   "execution_count": 13,
   "metadata": {},
   "outputs": [
    {
     "name": "stdout",
     "output_type": "stream",
     "text": [
      "cat_a = <__main__.Cat object at 0x00000215BF07CB10> 0x215bf07cb10\n",
      "\n",
      "cat_a.name = 'Bill' 2292422708720\n",
      "cat_b.name = 'Bill' 2292422708720\n",
      "\n",
      "cat_a.name = 'Bull' 2292422689584\n",
      "cat_b.name = 'Bull' 2292422689584\n",
      "\n",
      "cat_a.name = 'Måns' 2292422647904\n",
      "cat_b.name = 'Bull' 2292422689584\n"
     ]
    }
   ],
   "source": [
    "class Cat:\n",
    "    def __init__(self, name):\n",
    "        self.name = name\n",
    "\n",
    "cat_a = Cat(\"Bill\")\n",
    "\n",
    "print(f\"{cat_a = }\", hex(id(cat_a)))\n",
    "\n",
    "print()\n",
    "cat_b = cat_a\n",
    "\n",
    "print(f\"{cat_a.name = }\", id(cat_a.name))\n",
    "print(f\"{cat_b.name = }\", id(cat_b.name))\n",
    "\n",
    "print()\n",
    "cat_b.name = \"Bull\"\n",
    "\n",
    "print(f\"{cat_a.name = }\", id(cat_a.name))\n",
    "print(f\"{cat_b.name = }\", id(cat_b.name))\n",
    "\n",
    "print()\n",
    "cat_a = Cat(\"Måns\")\n",
    "\n",
    "print(f\"{cat_a.name = }\", id(cat_a.name))\n",
    "print(f\"{cat_b.name = }\", id(cat_b.name))\n"
   ]
  },
  {
   "cell_type": "markdown",
   "metadata": {},
   "source": [
    "### Names and values\n",
    "- Names refers to values.\n",
    "- Assignments never copies data.\n",
    "- Many names cn refer to one value.\n",
    "- Changes in a value are visible through all of its names.\n",
    "- Names are reassigned independly of other names.\n",
    "- Objects live until nothing references them. \n",
    "\n",
    "*Python keeps track of how many references each object has, and automatically cleans up objects that have none. This is called \"garbage collection\", and means that you don't have to get rid of objects, they go away by themselves when they are no longer needed.*"
   ]
  },
  {
   "cell_type": "code",
   "execution_count": null,
   "metadata": {},
   "outputs": [],
   "source": []
  }
 ],
 "metadata": {
  "kernelspec": {
   "display_name": "Python-AI23-PtEMjJox",
   "language": "python",
   "name": "python3"
  },
  "language_info": {
   "codemirror_mode": {
    "name": "ipython",
    "version": 3
   },
   "file_extension": ".py",
   "mimetype": "text/x-python",
   "name": "python",
   "nbconvert_exporter": "python",
   "pygments_lexer": "ipython3",
   "version": "3.11.5"
  },
  "orig_nbformat": 4
 },
 "nbformat": 4,
 "nbformat_minor": 2
}
