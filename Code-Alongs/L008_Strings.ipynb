{
 "cells": [
  {
   "cell_type": "markdown",
   "metadata": {},
   "source": [
    "# Strings\n",
    "- Data type used in Python for storing text.\n",
    "- Literal values with single or double quotes. 'Single', \"Double\"\n",
    "- Strings are immutable (meaning not changeable)"
   ]
  },
  {
   "cell_type": "markdown",
   "metadata": {},
   "source": [
    "## Concatenate\n",
    "In python we can concatenate two or more strings using the + operator."
   ]
  },
  {
   "cell_type": "code",
   "execution_count": 2,
   "metadata": {},
   "outputs": [
    {
     "name": "stdout",
     "output_type": "stream",
     "text": [
      "HelloWorld\n",
      "Hello World\n"
     ]
    }
   ],
   "source": [
    "string1 = \"Hello\"\n",
    "string2 = \"World\"\n",
    "\n",
    "string3 = string1 + string2\n",
    "\n",
    "print(string3)\n",
    "\n",
    "string3 = string1 + \" \" + string2\n",
    "\n",
    "print(string3)\n"
   ]
  },
  {
   "cell_type": "markdown",
   "metadata": {},
   "source": [
    "## Multiline strings\n",
    "Python allows string literals to span multiple rows if started, and ended, by \"\"\""
   ]
  },
  {
   "cell_type": "code",
   "execution_count": 16,
   "metadata": {},
   "outputs": [
    {
     "name": "stdout",
     "output_type": "stream",
     "text": [
      "This\n",
      "\"is\"\n",
      "'''\n",
      "an\n",
      "example!\n",
      "\n",
      "This\n",
      "is\n",
      "another\n",
      "example!\n"
     ]
    }
   ],
   "source": [
    "text = \"\"\"This\n",
    "\"is\"\n",
    "'''\n",
    "an\n",
    "example!\"\"\"\n",
    "\n",
    "print(text)\n",
    "\n",
    "print()\n",
    "\n",
    "if True:\n",
    "    text = '''This\n",
    "is\n",
    "another\n",
    "example!'''\n",
    "\n",
    "    print(text)\n"
   ]
  },
  {
   "cell_type": "markdown",
   "metadata": {},
   "source": [
    "## Indexing and slicing"
   ]
  },
  {
   "cell_type": "code",
   "execution_count": 26,
   "metadata": {},
   "outputs": [
    {
     "name": "stdout",
     "output_type": "stream",
     "text": [
      "name = 'Fredrik'\n",
      "name[0] = 'F'\n",
      "name[-1] = 'k'\n",
      "name[:3] = 'Fre'\n"
     ]
    }
   ],
   "source": [
    "name = \"Fredrik\"\n",
    "print(f\"{name = }\")\n",
    "print(f\"{name[0] = }\")\n",
    "print(f\"{name[-1] = }\")\n",
    "print(f\"{name[:3] = }\")"
   ]
  },
  {
   "cell_type": "markdown",
   "metadata": {},
   "source": [
    "## Looping through a string"
   ]
  },
  {
   "cell_type": "code",
   "execution_count": 22,
   "metadata": {},
   "outputs": [
    {
     "name": "stdout",
     "output_type": "stream",
     "text": [
      "F\n",
      "r\n",
      "e\n",
      "d\n",
      "r\n",
      "i\n",
      "k\n"
     ]
    }
   ],
   "source": [
    "name = \"Fredrik\"\n",
    "\n",
    "for char in name:\n",
    "    print(char)\n",
    "    "
   ]
  },
  {
   "cell_type": "markdown",
   "metadata": {},
   "source": [
    "## Membership operator with string"
   ]
  },
  {
   "cell_type": "code",
   "execution_count": 30,
   "metadata": {},
   "outputs": [
    {
     "name": "stdout",
     "output_type": "stream",
     "text": [
      "'drik' in name = True\n",
      "name in 'Fredrik Johansson' = True\n",
      "'efg' not in 'abcdefg' = False\n"
     ]
    }
   ],
   "source": [
    "name = \"Fredrik\"\n",
    "\n",
    "print(f\"{'drik' in name = }\")\n",
    "print(f\"{name in 'Fredrik Johansson' = }\")\n",
    "print(f\"{'efg' not in 'abcdefg' = }\")"
   ]
  },
  {
   "cell_type": "markdown",
   "metadata": {},
   "source": [
    "## Escape characters\n",
    "To insert characters that are illegal in a string, use an escape character.\n",
    "\n",
    "An escape character is a backslash \\ followed by the character you want to insert.\n",
    "\n",
    "An example of an illegal character is a double quote inside a string that is surrounded by double quotes.\n",
    "\n",
    "### Common escape characters\n",
    "- \\\\\" Double quote\n",
    "- \\\\' Singe quote\n",
    "- \\\\\\\\ Backslash\n",
    "- \\\\n New line\n",
    "- \\\\t Tab"
   ]
  },
  {
   "cell_type": "code",
   "execution_count": 34,
   "metadata": {},
   "outputs": [
    {
     "name": "stdout",
     "output_type": "stream",
     "text": [
      "Hello\tWorld\n",
      "Here \\ is \"another\" example\n"
     ]
    }
   ],
   "source": [
    "escaped_text = \"Hello\\tWorld\\nHere \\\\ is \\\"another\\\" example\"\n",
    "print(escaped_text)"
   ]
  },
  {
   "cell_type": "markdown",
   "metadata": {},
   "source": [
    "## String methods"
   ]
  },
  {
   "cell_type": "code",
   "execution_count": 77,
   "metadata": {},
   "outputs": [
    {
     "name": "stdout",
     "output_type": "stream",
     "text": [
      "name = 'Fredrik'\n",
      "upper_name = 'FREDRIK'\n",
      "\n",
      "\u001b[1mUpper- & Lower case:\u001b[0m\n",
      "\"Hello World\".lower() = 'hello world'\n",
      "\"Hello World\".upper() = 'HELLO WORLD'\n",
      "\"hello world\".title() = 'Hello World'\n",
      "\"hello world\".capitalize() = 'Hello world'\n",
      "\n",
      "\u001b[1mCheck if string starts or ends with substring:\u001b[0m\n",
      "\"hello world\".startswith(\"hello\") = True\n",
      "\"hello world\".endswith(\"hello\") = False\n",
      "\n",
      "\u001b[1mStrip whitespace from start/end of string:\u001b[0m\n",
      "\"        hello world      \".strip() = 'hello world'\n",
      "\"        hello world      \".lstrip() = 'hello world      '\n",
      "\"        hello world      \".rstrip() = '        hello world'\n",
      "\n",
      "\u001b[1mJoin multiple string:\u001b[0m\n",
      "\", \".join([\"Fredrik\", \"Johan\", \"Anna\"]) = 'Fredrik, Johan, Anna'\n",
      "\n",
      "\u001b[1mSplit string into multiple (list of) strings\u001b[0m\n",
      "\"This is another example\".split() = ['This', 'is', 'another', 'example']\n",
      "\"This is another example\".split(\"a\") = ['This is ', 'nother ex', 'mple']\n",
      "\"Apple, Orange, Pear, Melon\".split(\", \") = ['Apple', 'Orange', 'Pear', 'Melon']\n",
      "\n",
      "\u001b[1mReplace part of string:\u001b[0m\n",
      "\"This is another example\".replace(\"another\", \"just an\") = 'This is just an example'\n",
      "\"This is another example\".replace(\"another \", \"\") = 'This is example'\n",
      "\n",
      "\u001b[1mFind index of substring:\u001b[0m\n",
      "\"This is another example\".find(\"another\") = 8\n"
     ]
    }
   ],
   "source": [
    "# IGNORE: This is only for formatting output\n",
    "B, b = '\\033[1m', '\\033[0m'\n",
    "\n",
    "\n",
    "# String methods return a new string, but does not change the string that it's called upon.\n",
    "name = \"Fredrik\"\n",
    "upper_name = name.upper()\n",
    "print(f'{name = }')\n",
    "print(f'{upper_name = }')\n",
    "\n",
    "print(f\"\\n{B}Upper- & Lower case:{b}\")\n",
    "print(f'{\"Hello World\".lower() = }')\n",
    "print(f'{\"Hello World\".upper() = }')\n",
    "print(f'{\"hello world\".title() = }')\n",
    "print(f'{\"hello world\".capitalize() = }')\n",
    "\n",
    "print(f\"\\n{B}Check if string starts or ends with substring:{b}\")\n",
    "print(f'{\"hello world\".startswith(\"hello\") = }')\n",
    "print(f'{\"hello world\".endswith(\"hello\") = }')\n",
    "\n",
    "# Strip is often used when getting input from user.\n",
    "print(f\"\\n{B}Strip whitespace from start/end of string:{b}\")\n",
    "print(f'{\"        hello world      \".strip() = }')\n",
    "print(f'{\"        hello world      \".lstrip() = }')\n",
    "print(f'{\"        hello world      \".rstrip() = }')\n",
    "\n",
    "print(f\"\\n{B}Join multiple string:{b}\")\n",
    "print(f'{\", \".join([\"Fredrik\", \"Johan\", \"Anna\"]) = }')\n",
    "\n",
    "print(f\"\\n{B}Split string into multiple (list of) strings{b}\")\n",
    "print(f'{\"This is another example\".split() = }')\n",
    "print(f'{\"This is another example\".split(\"a\") = }')\n",
    "print(f'{\"Apple, Orange, Pear, Melon\".split(\", \") = }')\n",
    "\n",
    "print(f\"\\n{B}Replace part of string:{b}\")\n",
    "print(f'{\"This is another example\".replace(\"another\", \"just an\") = }')\n",
    "print(f'{\"This is another example\".replace(\"another \", \"\") = }')\n",
    "\n",
    "print(f\"\\n{B}Find index of substring:{b}\")\n",
    "print(f'{\"This is another example\".find(\"another\") = }')\n",
    "\n"
   ]
  },
  {
   "cell_type": "code",
   "execution_count": 61,
   "metadata": {},
   "outputs": [
    {
     "name": "stdout",
     "output_type": "stream",
     "text": [
      "detta\n",
      "är\n",
      "en\n",
      "annan\n",
      "text\n"
     ]
    }
   ],
   "source": [
    "text = input(\"Enter some text: \")\n",
    "\n",
    "words = text.split()\n",
    "\n",
    "for word in words:\n",
    "    print(word)"
   ]
  },
  {
   "cell_type": "code",
   "execution_count": 72,
   "metadata": {},
   "outputs": [
    {
     "name": "stdout",
     "output_type": "stream",
     "text": [
      "Fredrik Johansson\n"
     ]
    }
   ],
   "source": [
    "data = \"Fredrik Johansson, 42\"\n",
    "\n",
    "index = data.find(\",\")\n",
    "name = data[:index]\n",
    "\n",
    "print(name)\n",
    "\n"
   ]
  }
 ],
 "metadata": {
  "kernelspec": {
   "display_name": "Python-AI23-PtEMjJox",
   "language": "python",
   "name": "python3"
  },
  "language_info": {
   "codemirror_mode": {
    "name": "ipython",
    "version": 3
   },
   "file_extension": ".py",
   "mimetype": "text/x-python",
   "name": "python",
   "nbconvert_exporter": "python",
   "pygments_lexer": "ipython3",
   "version": "3.9.0"
  },
  "orig_nbformat": 4
 },
 "nbformat": 4,
 "nbformat_minor": 2
}
