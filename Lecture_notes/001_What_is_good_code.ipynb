{
 "cells": [
  {
   "cell_type": "markdown",
   "metadata": {},
   "source": [
    "# What is good code?\n",
    "We all want to write good code, but what is good code? How do we measure the quality of code? While this is a somewhat subjective topic where people tend to have different opinions, let's have a discussion about some of the things that contributes to the quality of code.\n",
    "\n",
    "## What do we want to achieve?\n",
    "When it comes to developing software there are typically a few things we want to achieve with our code:\n",
    "- **Correctness:** We want the code to work. We want it to solve our problem and give us the (correct) result we're looking for, without crashing or unintended side effects.\n",
    "- **Effectiveness** We want our code to not only give the intended result, but doing so in an effective way that doesn't waste time and resources.\n",
    "- **Testablility** We want it to be easy to test our code for correctness and performance. Usually we want to automate this process as much as possible, so we can be sure to not introduce errors as the code base grows and changes.\n",
    "- **Maintainability** We want our code base to be maintainable over a long period of time, to make it easy for us (or someone else) to update the software, add features and fix any problems with the code (bugs)."
   ]
  },
  {
   "cell_type": "markdown",
   "metadata": {},
   "source": [
    "## Correctness\n",
    "Writing code is a complex process and many things can go wrong, leaving us with incorrect, inaccurate or uninteded results.\n",
    "\n",
    "Incorrect code can be classified into 3 main categories:\n",
    "- **Syntax error** or compile time error: This is when the code we've written doesn't follow the syntax rules of the language we use, and therefore could not be interpreted correcly by the compiler/interpreter. This is the easiest type of error to detect becuase our code doesn't run at all, and the compiler will give us an error message telling us why.\n",
    "- **Runtime error**: If our code compiles and run, there can still be critical errors that comes up during run time that may cause our program to crash. For example, our program is made to read a file at a certain point during execution; but if the file does not exist it may cause the program to abort (crash) unintentionally. This type of error is often harder to find as it is not detected at compile time. (The compiler do not check if files that are not part of the code base exists, and even if it did the file could be deleted after the program starts, but before the program tries to read the file).\n",
    "- **Logical error**: This can often be the hardest type of error to find, as there is technically nothing wrong with the code. A computer is built to follow any instructions we give it blindly, and as long as there are no syntax or runtime errors it does just so. However, many times we as programmers just gave the wrong instructions. We intended to do something with our code, but got it wrong, and the result is not what we were looking for. An example of this is a computer game that runs well without crashing, but the player can run through some of the walls, even though that was not the programmers intention. The computer simply can't know the developers intention, it just does whatever it's told."
   ]
  },
  {
   "cell_type": "markdown",
   "metadata": {},
   "source": [
    "## Effectiveness\n",
    "In order for our program to run as effective as possible we might want to optimize our code. However, modern computers are fast, and even badly optimized code often gives us the results we're looking for in a good enough manner. Since it's often time consuming (and might produce more complex code) to optimze our code, it's usually better left of until it's really nessecary. *If the code is fast and efficent enough for our current needs, spending more time on optimization are in most cases a waste of time.*\n",
    "\n",
    "Code can be optimized for 2 different aspects:\n",
    "- **Time:** We usually want to deliver the results of a calculation as quickly as possible; altough in many cases it does not matter (especially if we're talking about having to wait a few seconds more to get our problem solved). However, there are cases where it really matters. One is when the code takes very long to execute. If it takes, weeks, month, or even years to get the result; finding a more effective algorithm or otherwise optimzing our code can sometimes bring the execution times down to seconds. Sometimes it also matters even when the execution time is already measured in parts of seconds. For a selfdriving car the compution time needed to make a decision may be the difference of safeley avoiding an obstacle or crashing into it; or for a computer game that runs at 60 FPS (Frames Per Seconds) we want to make sure that all computations to draw one frame are completed before we have to draw the next.\n",
    "- **Resources:** We may also want to improve our code to make it consume less resources. Any code we run will need resources such as memory and CPU to process our instructions. These resources are limited, and usually shared by other programs running on the same computer. By optimizing for resources, we can make sure the code can be excuted on cheaper hardware, consuming less power, and allowing more things to be done with the same resources."
   ]
  }
 ],
 "metadata": {
  "language_info": {
   "name": "python"
  },
  "orig_nbformat": 4
 },
 "nbformat": 4,
 "nbformat_minor": 2
}
