{
 "cells": [
  {
   "cell_type": "markdown",
   "metadata": {},
   "source": [
    "# Do's and dont's\n",
    "Ways to improve code readabilty. Examples are based upon observations from labb 2 submissions."
   ]
  },
  {
   "cell_type": "markdown",
   "metadata": {},
   "source": [
    "### Do not:"
   ]
  },
  {
   "cell_type": "code",
   "execution_count": 4,
   "metadata": {},
   "outputs": [],
   "source": [
    "if is_pikachu == True:\n",
    "    ...\n"
   ]
  },
  {
   "cell_type": "markdown",
   "metadata": {},
   "source": [
    "#### Instead do:"
   ]
  },
  {
   "cell_type": "code",
   "execution_count": null,
   "metadata": {},
   "outputs": [],
   "source": [
    "if is_pikachu:\n",
    "    ..."
   ]
  },
  {
   "cell_type": "markdown",
   "metadata": {},
   "source": [
    "### Do not:"
   ]
  },
  {
   "cell_type": "code",
   "execution_count": null,
   "metadata": {},
   "outputs": [],
   "source": [
    "point1 = (24, 31)\n",
    "point2 = (25, 30.5)\n",
    "point3 = (24.5, 32.2)\n",
    "point4 = (26, 29)"
   ]
  },
  {
   "cell_type": "markdown",
   "metadata": {},
   "source": [
    "#### Instead do:"
   ]
  },
  {
   "cell_type": "code",
   "execution_count": null,
   "metadata": {},
   "outputs": [],
   "source": [
    "points = [(24, 31), (25, 30.5), (24.5, 32.2), (26, 29)]"
   ]
  },
  {
   "cell_type": "markdown",
   "metadata": {},
   "source": [
    "### Do not:"
   ]
  },
  {
   "cell_type": "code",
   "execution_count": null,
   "metadata": {},
   "outputs": [],
   "source": [
    "pichu = []\n",
    "pika = []\n",
    "pichu_width = []\n",
    "pichu_height = []\n",
    "pika_width = []\n",
    "pika_height = []\n",
    "pichu_label = []\n",
    "pika_label = []\n",
    "...\n",
    "..."
   ]
  },
  {
   "cell_type": "markdown",
   "metadata": {},
   "source": [
    "#### Instead do:"
   ]
  },
  {
   "cell_type": "markdown",
   "metadata": {},
   "source": [
    "- Try to reduce number of variables (e.g, by combining them).\n",
    "- Don't initialize variable in advance, but only when they are actually used."
   ]
  },
  {
   "cell_type": "markdown",
   "metadata": {},
   "source": [
    "### Do not:"
   ]
  },
  {
   "cell_type": "code",
   "execution_count": null,
   "metadata": {},
   "outputs": [],
   "source": [
    "line = file_rows(\"datapoints.txt\")\n",
    "\n",
    "for i in line:\n",
    "    removeNewline = i.replace(\"\\n\", \"\")\n",
    "    ..."
   ]
  },
  {
   "cell_type": "markdown",
   "metadata": {},
   "source": [
    "#### Instead do:\n",
    "- Use verbs for function/method names\n",
    "- Use nouns for variable names\n",
    "- Use singular for numerics, string, bools, and plural for lists and sets"
   ]
  },
  {
   "cell_type": "code",
   "execution_count": null,
   "metadata": {},
   "outputs": [],
   "source": [
    "rows = read_textfile(\"datapoints.txt\")\n",
    "\n",
    "for row in rows:\n",
    "    row = row.replace(\"\\n\", \"\")\n",
    "    ..."
   ]
  },
  {
   "cell_type": "markdown",
   "metadata": {},
   "source": [
    "### Do not:"
   ]
  },
  {
   "cell_type": "code",
   "execution_count": null,
   "metadata": {},
   "outputs": [],
   "source": [
    "# Tar in bredd och höjd från användaren.\n",
    "def be_användaren_om_bredd_och_höjd():\n",
    "    bredd = input(\"Mata in bredd: \")\n",
    "    höjd = input(\"Mata in höjd: \")\n",
    "    return (bredd, höjd)"
   ]
  },
  {
   "cell_type": "markdown",
   "metadata": {},
   "source": [
    "#### Instead do:"
   ]
  },
  {
   "cell_type": "markdown",
   "metadata": {},
   "source": [
    "Write comments, code, and user interface in english."
   ]
  },
  {
   "cell_type": "markdown",
   "metadata": {},
   "source": [
    "### Do not:"
   ]
  },
  {
   "cell_type": "code",
   "execution_count": null,
   "metadata": {},
   "outputs": [],
   "source": [
    "if pokemons[0][1] == datapoints[2][0][1]:\n",
    "    ..."
   ]
  },
  {
   "cell_type": "markdown",
   "metadata": {},
   "source": [
    "#### Instead do:\n",
    "Use dictionaries"
   ]
  },
  {
   "cell_type": "code",
   "execution_count": null,
   "metadata": {},
   "outputs": [],
   "source": [
    "if pokemons[\"pichus\"][\"width\"] == datapoints[\"pokemons\"][\"label\"][\"widht\"]:\n",
    "    ..."
   ]
  },
  {
   "cell_type": "markdown",
   "metadata": {},
   "source": [
    "### Do not:"
   ]
  },
  {
   "cell_type": "code",
   "execution_count": null,
   "metadata": {},
   "outputs": [],
   "source": [
    "width = 24.0\n",
    "height = 32.5\n",
    "label = 1\n",
    "\n",
    "pokemon = [width, height, label]"
   ]
  },
  {
   "cell_type": "markdown",
   "metadata": {},
   "source": [
    "#### Instead do:\n",
    "- Avoid lists where items represent different things.\n",
    "- Instead use dictionaries in these case.\n",
    "- Only use lists for items where each item in the list represnts the same things:\n",
    "e.g. pokemons = [\"pichu\", \"pikachu\"]"
   ]
  },
  {
   "cell_type": "code",
   "execution_count": null,
   "metadata": {},
   "outputs": [],
   "source": [
    "width = 24.0\n",
    "height = 32.5\n",
    "label = 1\n",
    "\n",
    "pokemon = {\"width\": width, \"height\": height, \"label\": label}"
   ]
  },
  {
   "cell_type": "markdown",
   "metadata": {},
   "source": [
    "### Do not:"
   ]
  },
  {
   "cell_type": "code",
   "execution_count": null,
   "metadata": {},
   "outputs": [],
   "source": [
    "def classify_point(point, training_data=pokemons):\n",
    "    ..."
   ]
  },
  {
   "cell_type": "markdown",
   "metadata": {},
   "source": [
    "#### Instead do:"
   ]
  },
  {
   "cell_type": "code",
   "execution_count": null,
   "metadata": {},
   "outputs": [],
   "source": []
  },
  {
   "cell_type": "markdown",
   "metadata": {},
   "source": [
    "### Do not:"
   ]
  },
  {
   "cell_type": "code",
   "execution_count": null,
   "metadata": {},
   "outputs": [],
   "source": [
    "def euclidean_distance(x1, y1, x2, y2):\n",
    "    # Calculate distance\n",
    "    distance = math.sqrt((x2 - x1)**2 + (y2 - y1)**2)\n",
    "    return distance"
   ]
  },
  {
   "cell_type": "markdown",
   "metadata": {},
   "source": [
    "#### Instead do:"
   ]
  },
  {
   "cell_type": "code",
   "execution_count": null,
   "metadata": {},
   "outputs": [],
   "source": [
    "def euclidean_distance(x1, y1, x2, y2):\n",
    "    return math.sqrt((x2 - x1)**2 + (y2 - y1)**2)\n"
   ]
  },
  {
   "cell_type": "markdown",
   "metadata": {},
   "source": [
    "### Do not:"
   ]
  },
  {
   "cell_type": "code",
   "execution_count": null,
   "metadata": {},
   "outputs": [],
   "source": [
    "dp = load(\"datapoints\")\n",
    "\n",
    "poke_list = []\n",
    "\n",
    "for p in dp:\n",
    "    poke_list.append({\"w\": p[0], \"h\": p[1]})\n",
    "\n",
    "poke_srt = sorted(poke_list)"
   ]
  },
  {
   "cell_type": "markdown",
   "metadata": {},
   "source": [
    "#### Instead do:\n",
    "- Avoid using abbreviations for names"
   ]
  },
  {
   "cell_type": "code",
   "execution_count": null,
   "metadata": {},
   "outputs": [],
   "source": [
    "datapoints = load(\"datapoints\")\n",
    "\n",
    "pokemons = []\n",
    "\n",
    "for point in datapoints:\n",
    "    pokemons.append({\"width\": point[0], \"height\": point[1]})\n",
    "\n",
    "sorted_pokemons = sorted(pokemons)"
   ]
  },
  {
   "cell_type": "markdown",
   "metadata": {},
   "source": [
    "### Do not:"
   ]
  },
  {
   "cell_type": "code",
   "execution_count": null,
   "metadata": {},
   "outputs": [],
   "source": [
    "random.shuffle(pichus)\n",
    "random.shuffle(pikachus)\n",
    "\n",
    "new_pichu_training_data = []\n",
    "new_pikachu_training_data = []\n",
    "new_pichu_test_data = []\n",
    "new_pikachu_test_data = []\n",
    "\n",
    "# Append Pichus to new training data and test data\n",
    "for pichu in pichus:\n",
    "    if len(new_pichu_training_data) < 50:\n",
    "        new_pichu_training_data.append(pichu)\n",
    "    else:\n",
    "        new_pichu_test_data.append(pichu)\n",
    "\n",
    "# Append Pikachus to new training data and test data\n",
    "for pikachu in pikachus:\n",
    "    if len(new_pikachu_training_data) < 50:\n",
    "        new_pikachu_training_data.append(pikachu)\n",
    "    else:\n",
    "        new_pikachu_test_data.append(pikachu)\n",
    "\n",
    "new_training_data = new_pichu_training_data + new_pikachu_training_data\n",
    "new_test_data = new_pichu_test_data + new_pikachu_test_data"
   ]
  },
  {
   "cell_type": "markdown",
   "metadata": {},
   "source": [
    "#### Instead do:"
   ]
  },
  {
   "cell_type": "code",
   "execution_count": null,
   "metadata": {},
   "outputs": [],
   "source": [
    "random.shuffle(pichus)\n",
    "random.shuffle(pikachus)\n",
    "\n",
    "new_training_data = pichus[:50] + pikachu[:50]\n",
    "new_test_data = pichus[:-25] + pikachu[:-25]"
   ]
  },
  {
   "cell_type": "markdown",
   "metadata": {},
   "source": [
    "### Do not:"
   ]
  },
  {
   "cell_type": "code",
   "execution_count": null,
   "metadata": {},
   "outputs": [],
   "source": [
    "TP = 0\n",
    "FP = 0\n",
    "TN = 0\n",
    "FN = 0\n",
    "\n",
    "# For loop to classify each test point and update counts (TP, TN, FP, FN)\n",
    "for actual_label, predicted_label in results:\n",
    "    \n",
    "    if actual_label == \"Pikachu\":\n",
    "        if predicted_label == \"Pikachu\":\n",
    "            TP += 1\n",
    "        else:\n",
    "            FP += 1\n",
    "    else:\n",
    "        if predicted_label == \"Pichu\":\n",
    "            TN += 1\n",
    "        else:\n",
    "            FN += 1\n",
    "    \n",
    "total = TP + TN + FP + FN\n",
    "accuracy = (TP + TN) / total"
   ]
  },
  {
   "cell_type": "markdown",
   "metadata": {},
   "source": [
    "#### Instead do:"
   ]
  },
  {
   "cell_type": "code",
   "execution_count": null,
   "metadata": {},
   "outputs": [],
   "source": [
    "correct_predictions = 0\n",
    "\n",
    "for actual_label, predicted_label in results:\n",
    "    \n",
    "    if actual_label == predicted_label:\n",
    "            correct_predictions += 1\n",
    "        \n",
    "total = len(results)\n",
    "accuracy = correct_predictions / total"
   ]
  },
  {
   "cell_type": "markdown",
   "metadata": {},
   "source": [
    "### Do not:"
   ]
  },
  {
   "cell_type": "code",
   "execution_count": null,
   "metadata": {},
   "outputs": [],
   "source": [
    "def classify_point(point, training_data):\n",
    "    \n",
    "    # Get a list with all distances from the test point to each training point\n",
    "    distances = []\n",
    "\n",
    "    for training_point in training_data:\n",
    "        # Calculate the euclidian distance to current training point\n",
    "        distances.append(math.sqrt((training_point[0] - point[0])**2 + (training_point[1] - point[1])**2))\n",
    "\n",
    "    ..."
   ]
  },
  {
   "cell_type": "markdown",
   "metadata": {},
   "source": [
    "#### Instead do:"
   ]
  },
  {
   "cell_type": "code",
   "execution_count": null,
   "metadata": {},
   "outputs": [],
   "source": [
    "def euclidan_distance(p1, p2):\n",
    "    return math.sqrt((p1[0] - p2[0])**2 + (p1[1] - p2[1])**2)\n",
    "\n",
    "def classify_point(point, training_data):\n",
    "    \n",
    "    distances = [euclidan_distance(point, training_point) for training_point in training_data]\n",
    "\n",
    "    ..."
   ]
  }
 ],
 "metadata": {
  "kernelspec": {
   "display_name": "Learning_Python-3NYKqp0N",
   "language": "python",
   "name": "python3"
  },
  "language_info": {
   "codemirror_mode": {
    "name": "ipython",
    "version": 3
   },
   "file_extension": ".py",
   "mimetype": "text/x-python",
   "name": "python",
   "nbconvert_exporter": "python",
   "pygments_lexer": "ipython3",
   "version": "3.9.0"
  },
  "orig_nbformat": 4
 },
 "nbformat": 4,
 "nbformat_minor": 2
}
